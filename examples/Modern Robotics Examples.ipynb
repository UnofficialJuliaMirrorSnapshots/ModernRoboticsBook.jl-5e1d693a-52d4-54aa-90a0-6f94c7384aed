{
 "cells": [
  {
   "cell_type": "markdown",
   "metadata": {},
   "source": [
    "# Modern Robotics\n",
    "**Mechanics, Planning, and Control**"
   ]
  },
  {
   "cell_type": "code",
   "execution_count": 1,
   "metadata": {},
   "outputs": [],
   "source": [
    "using Revise\n",
    "using ModernRoboticsBook\n",
    "\n",
    "import LinearAlgebra\n",
    "const linalg = LinearAlgebra;"
   ]
  },
  {
   "cell_type": "markdown",
   "metadata": {},
   "source": [
    "## BASIC HELPER FUNCTIONS"
   ]
  },
  {
   "cell_type": "code",
   "execution_count": 2,
   "metadata": {},
   "outputs": [
    {
     "data": {
      "text/plain": [
       "true"
      ]
     },
     "execution_count": 2,
     "metadata": {},
     "output_type": "execute_result"
    }
   ],
   "source": [
    "NearZero(-1e-7)"
   ]
  },
  {
   "cell_type": "code",
   "execution_count": 3,
   "metadata": {},
   "outputs": [
    {
     "data": {
      "text/plain": [
       "3-element Array{Float64,1}:\n",
       " 0.2672612419124244\n",
       " 0.5345224838248488\n",
       " 0.8017837257372732"
      ]
     },
     "execution_count": 3,
     "metadata": {},
     "output_type": "execute_result"
    }
   ],
   "source": [
    "Normalize([1, 2, 3])"
   ]
  },
  {
   "cell_type": "markdown",
   "metadata": {},
   "source": [
    "## CHAPTER 3: RIGID-BODY MOTIONS"
   ]
  },
  {
   "cell_type": "code",
   "execution_count": 4,
   "metadata": {
    "scrolled": true
   },
   "outputs": [
    {
     "data": {
      "text/plain": [
       "3×3 LinearAlgebra.Adjoint{Int64,Array{Int64,2}}:\n",
       " 0  1  0\n",
       " 0  0  1\n",
       " 1  0  0"
      ]
     },
     "execution_count": 4,
     "metadata": {},
     "output_type": "execute_result"
    }
   ],
   "source": [
    "RotInv([0 0 1; 1 0 0; 0 1 0])"
   ]
  },
  {
   "cell_type": "code",
   "execution_count": 5,
   "metadata": {},
   "outputs": [
    {
     "data": {
      "text/plain": [
       "3×3 Array{Int64,2}:\n",
       "  0  -3   2\n",
       "  3   0  -1\n",
       " -2   1   0"
      ]
     },
     "execution_count": 5,
     "metadata": {},
     "output_type": "execute_result"
    }
   ],
   "source": [
    "VecToso3([1, 2, 3])"
   ]
  },
  {
   "cell_type": "code",
   "execution_count": 6,
   "metadata": {},
   "outputs": [
    {
     "data": {
      "text/plain": [
       "3-element Array{Int64,1}:\n",
       " 1\n",
       " 2\n",
       " 3"
      ]
     },
     "execution_count": 6,
     "metadata": {},
     "output_type": "execute_result"
    }
   ],
   "source": [
    "so3ToVec([0 -3 2; 3 0 -1; -2 1 0])"
   ]
  },
  {
   "cell_type": "code",
   "execution_count": 7,
   "metadata": {},
   "outputs": [
    {
     "data": {
      "text/plain": [
       "([0.267261 0.534522 0.801784], 3.7416573867739413)"
      ]
     },
     "execution_count": 7,
     "metadata": {},
     "output_type": "execute_result"
    }
   ],
   "source": [
    "AxisAng3([1 2 3])"
   ]
  },
  {
   "cell_type": "code",
   "execution_count": 8,
   "metadata": {},
   "outputs": [
    {
     "data": {
      "text/plain": [
       "3×3 Array{Float64,2}:\n",
       " -0.694921   0.713521  0.0892929\n",
       " -0.192007  -0.303785  0.933192 \n",
       "  0.692978   0.63135   0.348107 "
      ]
     },
     "execution_count": 8,
     "metadata": {},
     "output_type": "execute_result"
    }
   ],
   "source": [
    "MatrixExp3([0 -3 2; 3 0 -1; -2 1 0])"
   ]
  },
  {
   "cell_type": "code",
   "execution_count": 9,
   "metadata": {},
   "outputs": [
    {
     "data": {
      "text/plain": [
       "3×3 Array{Float64,2}:\n",
       "  0.0     -1.2092   1.2092\n",
       "  1.2092   0.0     -1.2092\n",
       " -1.2092   1.2092   0.0   "
      ]
     },
     "execution_count": 9,
     "metadata": {},
     "output_type": "execute_result"
    }
   ],
   "source": [
    "MatrixLog3([0 0 1; 1 0 0; 0 1 0])"
   ]
  },
  {
   "cell_type": "code",
   "execution_count": 10,
   "metadata": {},
   "outputs": [
    {
     "data": {
      "text/plain": [
       "4×4 Array{Int64,2}:\n",
       " 1  0   0  1\n",
       " 0  0  -1  2\n",
       " 0  1   0  5\n",
       " 0  0   0  1"
      ]
     },
     "execution_count": 10,
     "metadata": {},
     "output_type": "execute_result"
    }
   ],
   "source": [
    "RpToTrans([1 0 0; 0 0 -1; 0 1 0], [1, 2, 5])"
   ]
  },
  {
   "cell_type": "code",
   "execution_count": 11,
   "metadata": {},
   "outputs": [
    {
     "data": {
      "text/plain": [
       "([1 0 0; 0 0 -1; 0 1 0], [0, 0, 3])"
      ]
     },
     "execution_count": 11,
     "metadata": {},
     "output_type": "execute_result"
    }
   ],
   "source": [
    "TransToRp([1 0  0 0; 0 0 -1 0; 0 1  0 3; 0 0  0 1])"
   ]
  },
  {
   "cell_type": "code",
   "execution_count": 12,
   "metadata": {},
   "outputs": [
    {
     "data": {
      "text/plain": [
       "4×4 Array{Int64,2}:\n",
       " 1   0  0   0\n",
       " 0   0  1  -3\n",
       " 0  -1  0   0\n",
       " 0   0  0   1"
      ]
     },
     "execution_count": 12,
     "metadata": {},
     "output_type": "execute_result"
    }
   ],
   "source": [
    "TransInv([1 0 0 0; 0 0 -1 0; 0 1 0 3; 0 0 0 1])"
   ]
  },
  {
   "cell_type": "code",
   "execution_count": 13,
   "metadata": {},
   "outputs": [
    {
     "data": {
      "text/plain": [
       "4×4 Array{Float64,2}:\n",
       "  0.0  -3.0   2.0  4.0\n",
       "  3.0   0.0  -1.0  5.0\n",
       " -2.0   1.0   0.0  6.0\n",
       "  0.0   0.0   0.0  0.0"
      ]
     },
     "execution_count": 13,
     "metadata": {},
     "output_type": "execute_result"
    }
   ],
   "source": [
    "VecTose3([1 2 3 4 5 6])"
   ]
  },
  {
   "cell_type": "code",
   "execution_count": 14,
   "metadata": {},
   "outputs": [
    {
     "data": {
      "text/plain": [
       "6-element Array{Int64,1}:\n",
       " 1\n",
       " 2\n",
       " 3\n",
       " 4\n",
       " 5\n",
       " 6"
      ]
     },
     "execution_count": 14,
     "metadata": {},
     "output_type": "execute_result"
    }
   ],
   "source": [
    "se3ToVec([0 -3 2 4; 3 0 -1 5; -2 1 0 6; 0 0 0 0])"
   ]
  },
  {
   "cell_type": "code",
   "execution_count": 15,
   "metadata": {},
   "outputs": [
    {
     "data": {
      "text/plain": [
       "6×6 Array{Float64,2}:\n",
       " 1.0  0.0   0.0  0.0  0.0   0.0\n",
       " 0.0  0.0  -1.0  0.0  0.0   0.0\n",
       " 0.0  1.0   0.0  0.0  0.0   0.0\n",
       " 0.0  0.0   3.0  1.0  0.0   0.0\n",
       " 3.0  0.0   0.0  0.0  0.0  -1.0\n",
       " 0.0  0.0   0.0  0.0  1.0   0.0"
      ]
     },
     "execution_count": 15,
     "metadata": {},
     "output_type": "execute_result"
    }
   ],
   "source": [
    "Adjoint([1 0 0 0; 0 0 -1 0; 0 1 0 3; 0 0 0 1])"
   ]
  },
  {
   "cell_type": "code",
   "execution_count": 16,
   "metadata": {},
   "outputs": [
    {
     "data": {
      "text/plain": [
       "6-element Array{Int64,1}:\n",
       "  0\n",
       "  0\n",
       "  1\n",
       "  0\n",
       " -3\n",
       "  2"
      ]
     },
     "execution_count": 16,
     "metadata": {},
     "output_type": "execute_result"
    }
   ],
   "source": [
    "ScrewToAxis([3; 0; 0], [0; 0; 1], 2)"
   ]
  },
  {
   "cell_type": "code",
   "execution_count": 17,
   "metadata": {},
   "outputs": [
    {
     "data": {
      "text/plain": [
       "([1.0, 0.0, 0.0, 1.0, 2.0, 3.0], 1.0)"
      ]
     },
     "execution_count": 17,
     "metadata": {},
     "output_type": "execute_result"
    }
   ],
   "source": [
    "AxisAng6([1, 0, 0, 1, 2, 3])"
   ]
  },
  {
   "cell_type": "code",
   "execution_count": 18,
   "metadata": {},
   "outputs": [
    {
     "data": {
      "text/plain": [
       "4×4 Array{Float64,2}:\n",
       " 1.0  0.0         0.0        0.0       \n",
       " 0.0  6.7949e-9  -1.0        1.01923e-8\n",
       " 0.0  1.0         6.7949e-9  3.0       \n",
       " 0.0  0.0         0.0        1.0       "
      ]
     },
     "execution_count": 18,
     "metadata": {},
     "output_type": "execute_result"
    }
   ],
   "source": [
    "MatrixExp6([0 0 0 0; 0 0 -1.57079632 2.35619449; 0 1.57079632 0 2.35619449; 0 0 0 0])"
   ]
  },
  {
   "cell_type": "code",
   "execution_count": 19,
   "metadata": {},
   "outputs": [
    {
     "data": {
      "text/plain": [
       "4×4 Array{Float64,2}:\n",
       " 0.0  0.0      0.0     0.0    \n",
       " 0.0  0.0     -1.5708  2.35619\n",
       " 0.0  1.5708   0.0     2.35619\n",
       " 0.0  0.0      0.0     0.0    "
      ]
     },
     "execution_count": 19,
     "metadata": {},
     "output_type": "execute_result"
    }
   ],
   "source": [
    "MatrixLog6([1 0 0 0; 0 0 -1 0; 0 1 0 3; 0 0 0 1])"
   ]
  },
  {
   "cell_type": "code",
   "execution_count": 20,
   "metadata": {},
   "outputs": [
    {
     "data": {
      "text/plain": [
       "3×3 Array{Float64,2}:\n",
       "  0.679011  0.148945   0.718859\n",
       "  0.373207  0.773196  -0.512723\n",
       " -0.632187  0.616428   0.469421"
      ]
     },
     "execution_count": 20,
     "metadata": {},
     "output_type": "execute_result"
    }
   ],
   "source": [
    "ProjectToSO3([0.675 0.150  0.720; 0.370 0.771 -0.511; -0.630 0.619  0.472])"
   ]
  },
  {
   "cell_type": "code",
   "execution_count": 21,
   "metadata": {},
   "outputs": [
    {
     "data": {
      "text/plain": [
       "4×4 Array{Float64,2}:\n",
       "  0.679011  0.148945   0.718859  1.2\n",
       "  0.373207  0.773196  -0.512723  5.4\n",
       " -0.632187  0.616428   0.469421  3.6\n",
       "  0.0       0.0        0.0       1.0"
      ]
     },
     "execution_count": 21,
     "metadata": {},
     "output_type": "execute_result"
    }
   ],
   "source": [
    "ProjectToSE3([0.675 0.150  0.720 1.2; 0.370 0.771 -0.511 5.4; -0.630 0.619  0.472 3.6; 0.003 0.002  0.010 0.9])"
   ]
  },
  {
   "cell_type": "code",
   "execution_count": 22,
   "metadata": {},
   "outputs": [
    {
     "data": {
      "text/plain": [
       "0.08835298523536149"
      ]
     },
     "execution_count": 22,
     "metadata": {},
     "output_type": "execute_result"
    }
   ],
   "source": [
    "DistanceToSO3([1.0 0.0 0.0 ; 0.0 0.1 -0.95; 0.0 1.0 0.1])"
   ]
  },
  {
   "cell_type": "code",
   "execution_count": 23,
   "metadata": {},
   "outputs": [
    {
     "data": {
      "text/plain": [
       "0.13493053768513638"
      ]
     },
     "execution_count": 23,
     "metadata": {},
     "output_type": "execute_result"
    }
   ],
   "source": [
    "DistanceToSE3([1.0 0.0 0.0 1.2; 0.0 0.1 -0.95 1.5; 0.0 1.0 0.1 -0.9; 0.0 0.0 0.1 0.98])"
   ]
  },
  {
   "cell_type": "code",
   "execution_count": 24,
   "metadata": {},
   "outputs": [
    {
     "data": {
      "text/plain": [
       "false"
      ]
     },
     "execution_count": 24,
     "metadata": {},
     "output_type": "execute_result"
    }
   ],
   "source": [
    "TestIfSO3([1.0 0.0 0.0; 0.0 0.1 -0.95; 0.0 1.0 0.1])"
   ]
  },
  {
   "cell_type": "code",
   "execution_count": 25,
   "metadata": {},
   "outputs": [
    {
     "data": {
      "text/plain": [
       "false"
      ]
     },
     "execution_count": 25,
     "metadata": {},
     "output_type": "execute_result"
    }
   ],
   "source": [
    "TestIfSE3([1.0 0.0 0.0 1.2; 0.0 0.1 -0.95 1.5; 0.0 1.0 0.1 -0.9; 0.0 0.0 0.1 0.98])"
   ]
  },
  {
   "cell_type": "markdown",
   "metadata": {},
   "source": [
    "## CHAPTER 4: FORWARD KINEMATICS"
   ]
  },
  {
   "cell_type": "code",
   "execution_count": 26,
   "metadata": {},
   "outputs": [],
   "source": [
    "M = [ -1 0  0 0 ;\n",
    "       0 1  0 6 ;\n",
    "       0 0 -1 2 ;\n",
    "       0 0  0 1 ]\n",
    "\n",
    "Blist = [ 0 0 -1 2 0   0 ;\n",
    "          0 0  0 0 1   0 ;\n",
    "          0 0  1 0 0 0.1 ]'\n",
    "\n",
    "Slist = [0 0  1  4 0    0 ;\n",
    "         0 0  0  0 1    0 ;\n",
    "         0 0 -1 -6 0 -0.1 ]'\n",
    "\n",
    "thetalist = [π / 2.0, 3, π];"
   ]
  },
  {
   "cell_type": "code",
   "execution_count": 27,
   "metadata": {},
   "outputs": [
    {
     "data": {
      "text/plain": [
       "4×4 Array{Float64,2}:\n",
       " -1.14424e-17  1.0           0.0  -5.0    \n",
       "  1.0          1.14424e-17   0.0   4.0    \n",
       "  0.0          0.0          -1.0   1.68584\n",
       "  0.0          0.0           0.0   1.0    "
      ]
     },
     "execution_count": 27,
     "metadata": {},
     "output_type": "execute_result"
    }
   ],
   "source": [
    "FKinBody(M, Blist, thetalist)"
   ]
  },
  {
   "cell_type": "code",
   "execution_count": 28,
   "metadata": {},
   "outputs": [
    {
     "data": {
      "text/plain": [
       "4×4 Array{Float64,2}:\n",
       " -1.14424e-17  1.0           0.0  -5.0    \n",
       "  1.0          1.14424e-17   0.0   4.0    \n",
       "  0.0          0.0          -1.0   1.68584\n",
       "  0.0          0.0           0.0   1.0    "
      ]
     },
     "execution_count": 28,
     "metadata": {},
     "output_type": "execute_result"
    }
   ],
   "source": [
    "FKinSpace(M, Slist, thetalist)"
   ]
  },
  {
   "cell_type": "markdown",
   "metadata": {},
   "source": [
    "## CHAPTER 5: VELOCITY KINEMATICS AND STATICS"
   ]
  },
  {
   "cell_type": "code",
   "execution_count": 29,
   "metadata": {},
   "outputs": [],
   "source": [
    "thetalist = [0.2, 1.1, 0.1, 1.2]\n",
    "\n",
    "Blist = [0 0 1   0 0.2 0.2 ;\n",
    "         1 0 0   2   0   3 ;\n",
    "         0 1 0   0   2   1 ;\n",
    "         1 0 0 0.2 0.3 0.4 ]'\n",
    "\n",
    "Slist = [0 0 1   0 0.2 0.2 ;\n",
    "         1 0 0   2   0   3 ;\n",
    "         0 1 0   0   2   1 ;\n",
    "         1 0 0 0.2 0.3 0.4 ]';"
   ]
  },
  {
   "cell_type": "code",
   "execution_count": 30,
   "metadata": {
    "scrolled": false
   },
   "outputs": [
    {
     "data": {
      "text/plain": [
       "6×4 Array{Float64,2}:\n",
       " -0.0452841  0.995004    0.0       1.0\n",
       "  0.743593   0.0930486   0.362358  0.0\n",
       " -0.667097   0.0361754  -0.932039  0.0\n",
       "  2.32586    1.66809     0.564108  0.2\n",
       " -1.44321    2.94561     1.43307   0.3\n",
       " -2.0664     1.82882    -1.58869   0.4"
      ]
     },
     "execution_count": 30,
     "metadata": {},
     "output_type": "execute_result"
    }
   ],
   "source": [
    "JacobianBody(Blist, thetalist)"
   ]
  },
  {
   "cell_type": "code",
   "execution_count": 31,
   "metadata": {},
   "outputs": [
    {
     "data": {
      "text/plain": [
       "6×4 Array{Float64,2}:\n",
       " 0.0  0.980067  -0.0901156   0.957494 \n",
       " 0.0  0.198669   0.444554    0.284876 \n",
       " 1.0  0.0        0.891207   -0.0452841\n",
       " 0.0  1.95219   -2.21635    -0.511615 \n",
       " 0.2  0.436541  -2.43713     2.77536  \n",
       " 0.2  2.96027    3.23573     2.22512  "
      ]
     },
     "execution_count": 31,
     "metadata": {},
     "output_type": "execute_result"
    }
   ],
   "source": [
    "JacobianSpace(Slist, thetalist)"
   ]
  },
  {
   "cell_type": "markdown",
   "metadata": {},
   "source": [
    "## CHAPTER 6: INVERSE KINEMATICS"
   ]
  },
  {
   "cell_type": "code",
   "execution_count": 32,
   "metadata": {},
   "outputs": [],
   "source": [
    "Blist = [ 0 0 -1 2 0   0 ;\n",
    "          0 0  0 0 1   0 ;\n",
    "          0 0  1 0 0 0.1 ]'\n",
    "\n",
    "Slist = [0 0  1  4 0    0 ;\n",
    "         0 0  0  0 1    0 ;\n",
    "         0 0 -1 -6 0 -0.1 ]'\n",
    "\n",
    "M = [ -1 0  0 0 ;\n",
    "       0 1  0 6 ;\n",
    "       0 0 -1 2 ;\n",
    "       0 0  0 1 ]\n",
    "\n",
    "T = [ 0 1  0     -5 ;\n",
    "      1 0  0      4 ;\n",
    "      0 0 -1 1.6858 ;\n",
    "      0 0  0      1 ]\n",
    "\n",
    "thetalist0 = [1.5, 2.5, 3]\n",
    "\n",
    "eomg = 0.01\n",
    "\n",
    "ev = 0.001;"
   ]
  },
  {
   "cell_type": "code",
   "execution_count": 33,
   "metadata": {
    "scrolled": false
   },
   "outputs": [
    {
     "data": {
      "text/plain": [
       "([1.57074, 2.99967, 3.14154], true)"
      ]
     },
     "execution_count": 33,
     "metadata": {},
     "output_type": "execute_result"
    }
   ],
   "source": [
    "IKinBody(Blist, M, T, thetalist0, eomg, ev)"
   ]
  },
  {
   "cell_type": "code",
   "execution_count": 34,
   "metadata": {},
   "outputs": [
    {
     "data": {
      "text/plain": [
       "([1.57074, 2.99966, 3.14153], true)"
      ]
     },
     "execution_count": 34,
     "metadata": {},
     "output_type": "execute_result"
    }
   ],
   "source": [
    "IKinSpace(Slist, M, T, thetalist0, eomg, ev)"
   ]
  },
  {
   "cell_type": "markdown",
   "metadata": {},
   "source": [
    "## CHAPTER 8: DYNAMICS OF OPEN CHAINS"
   ]
  },
  {
   "cell_type": "code",
   "execution_count": 35,
   "metadata": {},
   "outputs": [
    {
     "data": {
      "text/plain": [
       "6×6 Array{Float64,2}:\n",
       "  0.0  -3.0   2.0   0.0   0.0   0.0\n",
       "  3.0   0.0  -1.0   0.0   0.0   0.0\n",
       " -2.0   1.0   0.0   0.0   0.0   0.0\n",
       "  0.0  -6.0   5.0   0.0  -3.0   2.0\n",
       "  6.0   0.0  -4.0   3.0   0.0  -1.0\n",
       " -5.0   4.0   0.0  -2.0   1.0   0.0"
      ]
     },
     "execution_count": 35,
     "metadata": {},
     "output_type": "execute_result"
    }
   ],
   "source": [
    "ad([1, 2, 3, 4, 5, 6])"
   ]
  },
  {
   "cell_type": "code",
   "execution_count": 36,
   "metadata": {},
   "outputs": [],
   "source": [
    "thetalist = [0.1, 0.1, 0.1]\n",
    "\n",
    "dthetalist = [0.1, 0.2, 0.3]\n",
    "\n",
    "ddthetalist = [2, 1.5, 1]\n",
    "\n",
    "taulist = [0.5, 0.6, 0.7]\n",
    "\n",
    "g = [0, 0, -9.8]\n",
    "\n",
    "Ftip = [1, 1, 1, 1, 1, 1]\n",
    "\n",
    "M01 = [ 1 0 0        0 ;\n",
    "        0 1 0        0 ;\n",
    "        0 0 1 0.089159 ;\n",
    "        0 0 0        1 ]\n",
    "\n",
    "M12 = [ 0 0 1    0.28 ;\n",
    "        0 1 0 0.13585 ;\n",
    "       -1 0 0       0 ;\n",
    "        0 0 0       1 ]\n",
    "\n",
    "M23 = [ 1 0 0       0 ;\n",
    "        0 1 0 -0.1197 ;\n",
    "        0 0 1   0.395 ;\n",
    "        0 0 0       1 ]\n",
    "\n",
    "M34 = [ 1 0 0       0 ;\n",
    "        0 1 0       0 ;\n",
    "        0 0 1 0.14225 ;\n",
    "        0 0 0       1 ]\n",
    "\n",
    "Mlist = [M01, M12, M23, M34]\n",
    "\n",
    "G1 = linalg.Diagonal([0.010267, 0.010267, 0.00666, 3.7, 3.7, 3.7])\n",
    "G2 = linalg.Diagonal([0.22689, 0.22689, 0.0151074, 8.393, 8.393, 8.393])\n",
    "G3 = linalg.Diagonal([0.0494433, 0.0494433, 0.004095, 2.275, 2.275, 2.275])\n",
    "\n",
    "Glist = [G1, G2, G3]\n",
    "\n",
    "Slist = [ 1 0 1      0 1     0 ;\n",
    "          0 1 0 -0.089 0     0 ;\n",
    "          0 1 0 -0.089 0 0.425 ]';"
   ]
  },
  {
   "cell_type": "code",
   "execution_count": 37,
   "metadata": {},
   "outputs": [
    {
     "data": {
      "text/plain": [
       "3-element Array{Float64,1}:\n",
       "  74.69616155287451 \n",
       " -33.06766015851458 \n",
       "  -3.230573137901424"
      ]
     },
     "execution_count": 37,
     "metadata": {},
     "output_type": "execute_result"
    }
   ],
   "source": [
    "InverseDynamics(thetalist, dthetalist, ddthetalist, g, Ftip, Mlist, Glist, Slist)"
   ]
  },
  {
   "cell_type": "code",
   "execution_count": 38,
   "metadata": {},
   "outputs": [
    {
     "data": {
      "text/plain": [
       "3×3 Array{Float64,2}:\n",
       " 22.5433      -0.307147  -0.00718426\n",
       " -0.307147     1.96851    0.432157  \n",
       " -0.00718426   0.432157   0.191631  "
      ]
     },
     "execution_count": 38,
     "metadata": {},
     "output_type": "execute_result"
    }
   ],
   "source": [
    "MassMatrix(thetalist, Mlist, Glist, Slist)"
   ]
  },
  {
   "cell_type": "code",
   "execution_count": 39,
   "metadata": {},
   "outputs": [
    {
     "data": {
      "text/plain": [
       "3-element Array{Float64,1}:\n",
       "  0.26453118054501235 \n",
       " -0.0550515682891655  \n",
       " -0.006891320068248911"
      ]
     },
     "execution_count": 39,
     "metadata": {},
     "output_type": "execute_result"
    }
   ],
   "source": [
    "VelQuadraticForces(thetalist, dthetalist, Mlist, Glist, Slist)"
   ]
  },
  {
   "cell_type": "code",
   "execution_count": 40,
   "metadata": {},
   "outputs": [
    {
     "data": {
      "text/plain": [
       "3-element Array{Float64,1}:\n",
       "  28.40331261821983  \n",
       " -37.64094817177068  \n",
       "  -5.4415891999683605"
      ]
     },
     "execution_count": 40,
     "metadata": {},
     "output_type": "execute_result"
    }
   ],
   "source": [
    "GravityForces(thetalist, g, Mlist, Glist, Slist)"
   ]
  },
  {
   "cell_type": "code",
   "execution_count": 41,
   "metadata": {},
   "outputs": [
    {
     "data": {
      "text/plain": [
       "3-element Array{Float64,1}:\n",
       " 1.4095460782639782\n",
       " 1.8577149723180628\n",
       " 1.392409          "
      ]
     },
     "execution_count": 41,
     "metadata": {},
     "output_type": "execute_result"
    }
   ],
   "source": [
    "EndEffectorForces(thetalist, Ftip, Mlist, Glist, Slist)"
   ]
  },
  {
   "cell_type": "code",
   "execution_count": 42,
   "metadata": {},
   "outputs": [
    {
     "data": {
      "text/plain": [
       "3-element Array{Float64,1}:\n",
       "  -0.9739290670855626\n",
       "  25.584667840340558 \n",
       " -32.91499212478149  "
      ]
     },
     "execution_count": 42,
     "metadata": {},
     "output_type": "execute_result"
    }
   ],
   "source": [
    "ForwardDynamics(thetalist, dthetalist, taulist, g, Ftip, Mlist, Glist, Slist)"
   ]
  },
  {
   "cell_type": "code",
   "execution_count": 43,
   "metadata": {},
   "outputs": [
    {
     "data": {
      "text/plain": [
       "([0.11, 0.12, 0.13], [0.3, 0.35, 0.4])"
      ]
     },
     "execution_count": 43,
     "metadata": {},
     "output_type": "execute_result"
    }
   ],
   "source": [
    "EulerStep(thetalist, dthetalist, ddthetalist, 0.1)"
   ]
  },
  {
   "cell_type": "markdown",
   "metadata": {},
   "source": [
    "### Inverse Dynamics Trajectory\n",
    "\n",
    "Create a trajectory to follow using functions from Chapter 9."
   ]
  },
  {
   "cell_type": "code",
   "execution_count": 44,
   "metadata": {},
   "outputs": [],
   "source": [
    "thetastart = [0, 0, 0]\n",
    "\n",
    "thetaend = [π / 2, π / 2, π / 2]\n",
    "\n",
    "Tf = 3\n",
    "\n",
    "N = 1000\n",
    "\n",
    "method = 5\n",
    "\n",
    "traj = JointTrajectory(thetastart, thetaend, Tf, N, method)\n",
    "\n",
    "thetamat = copy(traj)\n",
    "dthetamat = zeros(1000, 3)\n",
    "ddthetamat = zeros(1000, 3)\n",
    "\n",
    "dt = Tf / (N - 1.0)\n",
    "\n",
    "for i = 1:size(traj, 1) - 1\n",
    "    dthetamat[i + 1, :] = (thetamat[i + 1, :] - thetamat[i, :]) / dt\n",
    "    ddthetamat[i + 1, :] = (dthetamat[i + 1, :] - dthetamat[i, :]) / dt\n",
    "end"
   ]
  },
  {
   "cell_type": "markdown",
   "metadata": {},
   "source": [
    "Initialize robot description (Example with 3 links)"
   ]
  },
  {
   "cell_type": "code",
   "execution_count": 45,
   "metadata": {},
   "outputs": [],
   "source": [
    "g = [0, 0, -9.8]\n",
    "    \n",
    "Ftipmat = ones(N, 6)\n",
    "    \n",
    "M01 = [ 1 0 0        0 ;\n",
    "        0 1 0        0 ;\n",
    "        0 0 1 0.089159 ;\n",
    "        0 0 0        1 ]\n",
    "\n",
    "M12 = [ 0 0 1    0.28 ;\n",
    "        0 1 0 0.13585 ;\n",
    "       -1 0 0       0 ;\n",
    "        0 0 0       1 ]\n",
    "\n",
    "M23 = [ 1 0 0       0 ;\n",
    "        0 1 0 -0.1197 ;\n",
    "        0 0 1   0.395 ;\n",
    "        0 0 0       1 ]\n",
    "\n",
    "M34 = [ 1 0 0       0 ;\n",
    "        0 1 0       0 ;\n",
    "        0 0 1 0.14225 ;\n",
    "        0 0 0       1 ]\n",
    "\n",
    "Mlist = [M01, M12, M23, M34]\n",
    "\n",
    "G1 = linalg.Diagonal([0.010267, 0.010267, 0.00666, 3.7, 3.7, 3.7])\n",
    "G2 = linalg.Diagonal([0.22689, 0.22689, 0.0151074, 8.393, 8.393, 8.393])\n",
    "G3 = linalg.Diagonal([0.0494433, 0.0494433, 0.004095, 2.275, 2.275, 2.275])\n",
    "\n",
    "Glist = [G1, G2, G3]\n",
    "\n",
    "Slist = [ 1 0 1      0 1     0 ;\n",
    "          0 1 0 -0.089 0     0 ;\n",
    "          0 1 0 -0.089 0 0.425 ]';"
   ]
  },
  {
   "cell_type": "code",
   "execution_count": 46,
   "metadata": {
    "scrolled": false
   },
   "outputs": [],
   "source": [
    "taumat = InverseDynamicsTrajectory(thetamat, dthetamat, ddthetamat, g, Ftipmat, Mlist, Glist, Slist);"
   ]
  },
  {
   "cell_type": "markdown",
   "metadata": {},
   "source": [
    "Plot the joint forces/torques"
   ]
  },
  {
   "cell_type": "code",
   "execution_count": 47,
   "metadata": {},
   "outputs": [],
   "source": [
    "using Plots\n",
    "gr();"
   ]
  },
  {
   "cell_type": "code",
   "execution_count": 48,
   "metadata": {},
   "outputs": [
    {
     "data": {
      "image/svg+xml": [
       "<?xml version=\"1.0\" encoding=\"utf-8\"?>\n",
       "<svg xmlns=\"http://www.w3.org/2000/svg\" xmlns:xlink=\"http://www.w3.org/1999/xlink\" width=\"600\" height=\"400\" viewBox=\"0 0 2400 1600\">\n",
       "<defs>\n",
       "  <clipPath id=\"clip7800\">\n",
       "    <rect x=\"0\" y=\"0\" width=\"2000\" height=\"2000\"/>\n",
       "  </clipPath>\n",
       "</defs>\n",
       "<defs>\n",
       "  <clipPath id=\"clip7801\">\n",
       "    <rect x=\"0\" y=\"0\" width=\"2400\" height=\"1600\"/>\n",
       "  </clipPath>\n",
       "</defs>\n",
       "<polygon clip-path=\"url(#clip7801)\" points=\"\n",
       "0,1600 2400,1600 2400,0 0,0 \n",
       "  \" fill=\"#ffffff\" fill-rule=\"evenodd\" fill-opacity=\"1\"/>\n",
       "<defs>\n",
       "  <clipPath id=\"clip7802\">\n",
       "    <rect x=\"480\" y=\"0\" width=\"1681\" height=\"1600\"/>\n",
       "  </clipPath>\n",
       "</defs>\n",
       "<polygon clip-path=\"url(#clip7801)\" points=\"\n",
       "239.115,1440.48 2321.26,1440.48 2321.26,125.984 239.115,125.984 \n",
       "  \" fill=\"#ffffff\" fill-rule=\"evenodd\" fill-opacity=\"1\"/>\n",
       "<defs>\n",
       "  <clipPath id=\"clip7803\">\n",
       "    <rect x=\"239\" y=\"125\" width=\"2083\" height=\"1315\"/>\n",
       "  </clipPath>\n",
       "</defs>\n",
       "<polyline clip-path=\"url(#clip7803)\" style=\"stroke:#000000; stroke-width:2; stroke-opacity:0.1; fill:none\" points=\"\n",
       "  298.044,1440.48 298.044,125.984 \n",
       "  \"/>\n",
       "<polyline clip-path=\"url(#clip7803)\" style=\"stroke:#000000; stroke-width:2; stroke-opacity:0.1; fill:none\" points=\"\n",
       "  789.116,1440.48 789.116,125.984 \n",
       "  \"/>\n",
       "<polyline clip-path=\"url(#clip7803)\" style=\"stroke:#000000; stroke-width:2; stroke-opacity:0.1; fill:none\" points=\"\n",
       "  1280.19,1440.48 1280.19,125.984 \n",
       "  \"/>\n",
       "<polyline clip-path=\"url(#clip7803)\" style=\"stroke:#000000; stroke-width:2; stroke-opacity:0.1; fill:none\" points=\"\n",
       "  1771.26,1440.48 1771.26,125.984 \n",
       "  \"/>\n",
       "<polyline clip-path=\"url(#clip7803)\" style=\"stroke:#000000; stroke-width:2; stroke-opacity:0.1; fill:none\" points=\"\n",
       "  2262.33,1440.48 2262.33,125.984 \n",
       "  \"/>\n",
       "<polyline clip-path=\"url(#clip7803)\" style=\"stroke:#000000; stroke-width:2; stroke-opacity:0.1; fill:none\" points=\"\n",
       "  239.115,1311.37 2321.26,1311.37 \n",
       "  \"/>\n",
       "<polyline clip-path=\"url(#clip7803)\" style=\"stroke:#000000; stroke-width:2; stroke-opacity:0.1; fill:none\" points=\"\n",
       "  239.115,1107.34 2321.26,1107.34 \n",
       "  \"/>\n",
       "<polyline clip-path=\"url(#clip7803)\" style=\"stroke:#000000; stroke-width:2; stroke-opacity:0.1; fill:none\" points=\"\n",
       "  239.115,903.308 2321.26,903.308 \n",
       "  \"/>\n",
       "<polyline clip-path=\"url(#clip7803)\" style=\"stroke:#000000; stroke-width:2; stroke-opacity:0.1; fill:none\" points=\"\n",
       "  239.115,699.278 2321.26,699.278 \n",
       "  \"/>\n",
       "<polyline clip-path=\"url(#clip7803)\" style=\"stroke:#000000; stroke-width:2; stroke-opacity:0.1; fill:none\" points=\"\n",
       "  239.115,495.248 2321.26,495.248 \n",
       "  \"/>\n",
       "<polyline clip-path=\"url(#clip7803)\" style=\"stroke:#000000; stroke-width:2; stroke-opacity:0.1; fill:none\" points=\"\n",
       "  239.115,291.218 2321.26,291.218 \n",
       "  \"/>\n",
       "<polyline clip-path=\"url(#clip7801)\" style=\"stroke:#000000; stroke-width:4; stroke-opacity:1; fill:none\" points=\"\n",
       "  239.115,1440.48 2321.26,1440.48 \n",
       "  \"/>\n",
       "<polyline clip-path=\"url(#clip7801)\" style=\"stroke:#000000; stroke-width:4; stroke-opacity:1; fill:none\" points=\"\n",
       "  239.115,1440.48 239.115,125.984 \n",
       "  \"/>\n",
       "<polyline clip-path=\"url(#clip7801)\" style=\"stroke:#000000; stroke-width:4; stroke-opacity:1; fill:none\" points=\"\n",
       "  298.044,1440.48 298.044,1420.77 \n",
       "  \"/>\n",
       "<polyline clip-path=\"url(#clip7801)\" style=\"stroke:#000000; stroke-width:4; stroke-opacity:1; fill:none\" points=\"\n",
       "  789.116,1440.48 789.116,1420.77 \n",
       "  \"/>\n",
       "<polyline clip-path=\"url(#clip7801)\" style=\"stroke:#000000; stroke-width:4; stroke-opacity:1; fill:none\" points=\"\n",
       "  1280.19,1440.48 1280.19,1420.77 \n",
       "  \"/>\n",
       "<polyline clip-path=\"url(#clip7801)\" style=\"stroke:#000000; stroke-width:4; stroke-opacity:1; fill:none\" points=\"\n",
       "  1771.26,1440.48 1771.26,1420.77 \n",
       "  \"/>\n",
       "<polyline clip-path=\"url(#clip7801)\" style=\"stroke:#000000; stroke-width:4; stroke-opacity:1; fill:none\" points=\"\n",
       "  2262.33,1440.48 2262.33,1420.77 \n",
       "  \"/>\n",
       "<polyline clip-path=\"url(#clip7801)\" style=\"stroke:#000000; stroke-width:4; stroke-opacity:1; fill:none\" points=\"\n",
       "  239.115,1311.37 270.347,1311.37 \n",
       "  \"/>\n",
       "<polyline clip-path=\"url(#clip7801)\" style=\"stroke:#000000; stroke-width:4; stroke-opacity:1; fill:none\" points=\"\n",
       "  239.115,1107.34 270.347,1107.34 \n",
       "  \"/>\n",
       "<polyline clip-path=\"url(#clip7801)\" style=\"stroke:#000000; stroke-width:4; stroke-opacity:1; fill:none\" points=\"\n",
       "  239.115,903.308 270.347,903.308 \n",
       "  \"/>\n",
       "<polyline clip-path=\"url(#clip7801)\" style=\"stroke:#000000; stroke-width:4; stroke-opacity:1; fill:none\" points=\"\n",
       "  239.115,699.278 270.347,699.278 \n",
       "  \"/>\n",
       "<polyline clip-path=\"url(#clip7801)\" style=\"stroke:#000000; stroke-width:4; stroke-opacity:1; fill:none\" points=\"\n",
       "  239.115,495.248 270.347,495.248 \n",
       "  \"/>\n",
       "<polyline clip-path=\"url(#clip7801)\" style=\"stroke:#000000; stroke-width:4; stroke-opacity:1; fill:none\" points=\"\n",
       "  239.115,291.218 270.347,291.218 \n",
       "  \"/>\n",
       "<g clip-path=\"url(#clip7801)\">\n",
       "<text style=\"fill:#000000; fill-opacity:1; font-family:Arial,Helvetica Neue,Helvetica,sans-serif; font-size:48px; text-anchor:middle;\" transform=\"rotate(0, 298.044, 1494.48)\" x=\"298.044\" y=\"1494.48\">1.0</text>\n",
       "</g>\n",
       "<g clip-path=\"url(#clip7801)\">\n",
       "<text style=\"fill:#000000; fill-opacity:1; font-family:Arial,Helvetica Neue,Helvetica,sans-serif; font-size:48px; text-anchor:middle;\" transform=\"rotate(0, 789.116, 1494.48)\" x=\"789.116\" y=\"1494.48\">1.5</text>\n",
       "</g>\n",
       "<g clip-path=\"url(#clip7801)\">\n",
       "<text style=\"fill:#000000; fill-opacity:1; font-family:Arial,Helvetica Neue,Helvetica,sans-serif; font-size:48px; text-anchor:middle;\" transform=\"rotate(0, 1280.19, 1494.48)\" x=\"1280.19\" y=\"1494.48\">2.0</text>\n",
       "</g>\n",
       "<g clip-path=\"url(#clip7801)\">\n",
       "<text style=\"fill:#000000; fill-opacity:1; font-family:Arial,Helvetica Neue,Helvetica,sans-serif; font-size:48px; text-anchor:middle;\" transform=\"rotate(0, 1771.26, 1494.48)\" x=\"1771.26\" y=\"1494.48\">2.5</text>\n",
       "</g>\n",
       "<g clip-path=\"url(#clip7801)\">\n",
       "<text style=\"fill:#000000; fill-opacity:1; font-family:Arial,Helvetica Neue,Helvetica,sans-serif; font-size:48px; text-anchor:middle;\" transform=\"rotate(0, 2262.33, 1494.48)\" x=\"2262.33\" y=\"1494.48\">3.0</text>\n",
       "</g>\n",
       "<g clip-path=\"url(#clip7801)\">\n",
       "<text style=\"fill:#000000; fill-opacity:1; font-family:Arial,Helvetica Neue,Helvetica,sans-serif; font-size:48px; text-anchor:end;\" transform=\"rotate(0, 215.115, 1328.87)\" x=\"215.115\" y=\"1328.87\">-25</text>\n",
       "</g>\n",
       "<g clip-path=\"url(#clip7801)\">\n",
       "<text style=\"fill:#000000; fill-opacity:1; font-family:Arial,Helvetica Neue,Helvetica,sans-serif; font-size:48px; text-anchor:end;\" transform=\"rotate(0, 215.115, 1124.84)\" x=\"215.115\" y=\"1124.84\">0</text>\n",
       "</g>\n",
       "<g clip-path=\"url(#clip7801)\">\n",
       "<text style=\"fill:#000000; fill-opacity:1; font-family:Arial,Helvetica Neue,Helvetica,sans-serif; font-size:48px; text-anchor:end;\" transform=\"rotate(0, 215.115, 920.808)\" x=\"215.115\" y=\"920.808\">25</text>\n",
       "</g>\n",
       "<g clip-path=\"url(#clip7801)\">\n",
       "<text style=\"fill:#000000; fill-opacity:1; font-family:Arial,Helvetica Neue,Helvetica,sans-serif; font-size:48px; text-anchor:end;\" transform=\"rotate(0, 215.115, 716.778)\" x=\"215.115\" y=\"716.778\">50</text>\n",
       "</g>\n",
       "<g clip-path=\"url(#clip7801)\">\n",
       "<text style=\"fill:#000000; fill-opacity:1; font-family:Arial,Helvetica Neue,Helvetica,sans-serif; font-size:48px; text-anchor:end;\" transform=\"rotate(0, 215.115, 512.748)\" x=\"215.115\" y=\"512.748\">75</text>\n",
       "</g>\n",
       "<g clip-path=\"url(#clip7801)\">\n",
       "<text style=\"fill:#000000; fill-opacity:1; font-family:Arial,Helvetica Neue,Helvetica,sans-serif; font-size:48px; text-anchor:end;\" transform=\"rotate(0, 215.115, 308.718)\" x=\"215.115\" y=\"308.718\">100</text>\n",
       "</g>\n",
       "<g clip-path=\"url(#clip7801)\">\n",
       "<text style=\"fill:#000000; fill-opacity:1; font-family:Arial,Helvetica Neue,Helvetica,sans-serif; font-size:84px; text-anchor:middle;\" transform=\"rotate(0, 1280.19, 73.2)\" x=\"1280.19\" y=\"73.2\">Plot of Torque Trajectories</text>\n",
       "</g>\n",
       "<g clip-path=\"url(#clip7801)\">\n",
       "<text style=\"fill:#000000; fill-opacity:1; font-family:Arial,Helvetica Neue,Helvetica,sans-serif; font-size:66px; text-anchor:middle;\" transform=\"rotate(0, 1280.19, 1590.4)\" x=\"1280.19\" y=\"1590.4\">Time</text>\n",
       "</g>\n",
       "<g clip-path=\"url(#clip7801)\">\n",
       "<text style=\"fill:#000000; fill-opacity:1; font-family:Arial,Helvetica Neue,Helvetica,sans-serif; font-size:66px; text-anchor:middle;\" transform=\"rotate(-90, 57.6, 783.233)\" x=\"57.6\" y=\"783.233\">Torque</text>\n",
       "</g>\n",
       "<polyline clip-path=\"url(#clip7803)\" style=\"stroke:#009af9; stroke-width:8; stroke-opacity:1; fill:none\" points=\"\n",
       "  298.044,999.367 300.01,999.069 301.976,997.58 303.942,995.803 305.909,994.035 307.875,992.278 309.841,990.531 311.807,988.794 313.774,987.066 315.74,985.349 \n",
       "  317.706,983.64 319.672,981.941 321.639,980.251 323.605,978.57 325.571,976.898 327.538,975.235 329.504,973.58 331.47,971.934 333.436,970.296 335.403,968.666 \n",
       "  337.369,967.044 339.335,965.43 341.301,963.823 343.268,962.224 345.234,960.633 347.2,959.048 349.166,957.471 351.133,955.9 353.099,954.336 355.065,952.779 \n",
       "  357.031,951.229 358.998,949.684 360.964,948.146 362.93,946.614 364.896,945.088 366.863,943.567 368.829,942.052 370.795,940.543 372.761,939.038 374.728,937.539 \n",
       "  376.694,936.045 378.66,934.556 380.626,933.071 382.593,931.591 384.559,930.115 386.525,928.644 388.491,927.177 390.458,925.713 392.424,924.254 394.39,922.798 \n",
       "  396.356,921.346 398.323,919.897 400.289,918.452 402.255,917.009 404.221,915.57 406.188,914.133 408.154,912.699 410.12,911.268 412.086,909.839 414.053,908.412 \n",
       "  416.019,906.988 417.985,905.565 419.951,904.145 421.918,902.726 423.884,901.309 425.85,899.893 427.816,898.479 429.783,897.065 431.749,895.653 433.715,894.242 \n",
       "  435.681,892.832 437.648,891.422 439.614,890.013 441.58,888.604 443.546,887.196 445.513,885.788 447.479,884.38 449.445,882.971 451.411,881.563 453.378,880.154 \n",
       "  455.344,878.745 457.31,877.335 459.277,875.924 461.243,874.513 463.209,873.101 465.175,871.688 467.142,870.273 469.108,868.857 471.074,867.44 473.04,866.021 \n",
       "  475.007,864.601 476.973,863.179 478.939,861.755 480.905,860.329 482.872,858.901 484.838,857.47 486.804,856.038 488.77,854.603 490.737,853.165 492.703,851.725 \n",
       "  494.669,850.282 496.635,848.836 498.602,847.388 500.568,845.936 502.534,844.481 504.5,843.022 506.467,841.561 508.433,840.096 510.399,838.627 512.365,837.155 \n",
       "  514.332,835.679 516.298,834.199 518.264,832.715 520.23,831.227 522.197,829.735 524.163,828.239 526.129,826.738 528.095,825.233 530.062,823.724 532.028,822.21 \n",
       "  533.994,820.691 535.96,819.168 537.927,817.639 539.893,816.106 541.859,814.568 543.825,813.025 545.792,811.476 547.758,809.923 549.724,808.364 551.69,806.799 \n",
       "  553.657,805.23 555.623,803.654 557.589,802.073 559.555,800.487 561.522,798.894 563.488,797.296 565.454,795.692 567.42,794.082 569.387,792.466 571.353,790.844 \n",
       "  573.319,789.215 575.285,787.581 577.252,785.94 579.218,784.293 581.184,782.639 583.15,780.979 585.117,779.313 587.083,777.64 589.049,775.96 591.016,774.274 \n",
       "  592.982,772.581 594.948,770.881 596.914,769.175 598.881,767.461 600.847,765.741 602.813,764.014 604.779,762.28 606.746,760.538 608.712,758.79 610.678,757.035 \n",
       "  612.644,755.272 614.611,753.502 616.577,751.725 618.543,749.941 620.509,748.15 622.476,746.351 624.442,744.545 626.408,742.731 628.374,740.91 630.341,739.082 \n",
       "  632.307,737.246 634.273,735.403 636.239,733.552 638.206,731.693 640.172,729.828 642.138,727.954 644.104,726.073 646.071,724.185 648.037,722.289 650.003,720.385 \n",
       "  651.969,718.474 653.936,716.555 655.902,714.628 657.868,712.694 659.834,710.752 661.801,708.803 663.767,706.845 665.733,704.881 667.699,702.908 669.666,700.928 \n",
       "  671.632,698.94 673.598,696.945 675.564,694.942 677.531,692.932 679.497,690.913 681.463,688.888 683.429,686.854 685.396,684.813 687.362,682.765 689.328,680.709 \n",
       "  691.294,678.645 693.261,676.574 695.227,674.496 697.193,672.41 699.159,670.317 701.126,668.216 703.092,666.108 705.058,663.993 707.024,661.87 708.991,659.74 \n",
       "  710.957,657.603 712.923,655.458 714.89,653.307 716.856,651.148 718.822,648.982 720.788,646.809 722.755,644.629 724.721,642.442 726.687,640.249 728.653,638.048 \n",
       "  730.62,635.841 732.586,633.627 734.552,631.406 736.518,629.178 738.485,626.944 740.451,624.703 742.417,622.456 744.383,620.203 746.35,617.943 748.316,615.676 \n",
       "  750.282,613.404 752.248,611.125 754.215,608.84 756.181,606.55 758.147,604.253 760.113,601.95 762.08,599.642 764.046,597.327 766.012,595.008 767.978,592.682 \n",
       "  769.945,590.351 771.911,588.015 773.877,585.673 775.843,583.326 777.81,580.974 779.776,578.616 781.742,576.254 783.708,573.887 785.675,571.515 787.641,569.138 \n",
       "  789.607,566.756 791.573,564.37 793.54,561.98 795.506,559.585 797.472,557.186 799.438,554.783 801.405,552.375 803.371,549.964 805.337,547.549 807.303,545.13 \n",
       "  809.27,542.708 811.236,540.282 813.202,537.852 815.168,535.42 817.135,532.984 819.101,530.545 821.067,528.103 823.033,525.658 825,523.211 826.966,520.76 \n",
       "  828.932,518.308 830.898,515.853 832.865,513.396 834.831,510.936 836.797,508.475 838.763,506.012 840.73,503.547 842.696,501.08 844.662,498.612 846.629,496.142 \n",
       "  848.595,493.671 850.561,491.2 852.527,488.727 854.494,486.253 856.46,483.779 858.426,481.304 860.392,478.829 862.359,476.353 864.325,473.877 866.291,471.401 \n",
       "  868.257,468.926 870.224,466.45 872.19,463.975 874.156,461.501 876.122,459.027 878.089,456.554 880.055,454.082 882.021,451.611 883.987,449.142 885.954,446.674 \n",
       "  887.92,444.207 889.886,441.742 891.852,439.279 893.819,436.819 895.785,434.36 897.751,431.903 899.717,429.449 901.684,426.998 903.65,424.55 905.616,422.104 \n",
       "  907.582,419.662 909.549,417.222 911.515,414.786 913.481,412.354 915.447,409.926 917.414,407.501 919.38,405.08 921.346,402.663 923.312,400.251 925.279,397.844 \n",
       "  927.245,395.44 929.211,393.042 931.177,390.649 933.144,388.261 935.11,385.878 937.076,383.5 939.042,381.128 941.009,378.762 942.975,376.402 944.941,374.048 \n",
       "  946.907,371.7 948.874,369.358 950.84,367.023 952.806,364.695 954.772,362.373 956.739,360.059 958.705,357.752 960.671,355.452 962.637,353.159 964.604,350.874 \n",
       "  966.57,348.597 968.536,346.328 970.502,344.067 972.469,341.815 974.435,339.57 976.401,337.334 978.368,335.107 980.334,332.889 982.3,330.68 984.266,328.48 \n",
       "  986.233,326.29 988.199,324.109 990.165,321.937 992.131,319.775 994.098,317.624 996.064,315.482 998.03,313.351 999.996,311.23 1001.96,309.119 1003.93,307.019 \n",
       "  1005.9,304.93 1007.86,302.852 1009.83,300.785 1011.79,298.729 1013.76,296.685 1015.73,294.652 1017.69,292.631 1019.66,290.622 1021.63,288.624 1023.59,286.639 \n",
       "  1025.56,284.666 1027.52,282.705 1029.49,280.757 1031.46,278.821 1033.42,276.898 1035.39,274.988 1037.36,273.091 1039.32,271.207 1041.29,269.336 1043.25,267.479 \n",
       "  1045.22,265.635 1047.19,263.805 1049.15,261.989 1051.12,260.186 1053.09,258.398 1055.05,256.623 1057.02,254.863 1058.98,253.117 1060.95,251.385 1062.92,249.669 \n",
       "  1064.88,247.966 1066.85,246.279 1068.82,244.606 1070.78,242.948 1072.75,241.306 1074.71,239.679 1076.68,238.066 1078.65,236.47 1080.61,234.889 1082.58,233.323 \n",
       "  1084.55,231.773 1086.51,230.239 1088.48,228.72 1090.44,227.218 1092.41,225.732 1094.38,224.261 1096.34,222.807 1098.31,221.37 1100.28,219.948 1102.24,218.543 \n",
       "  1104.21,217.155 1106.17,215.783 1108.14,214.428 1110.11,213.09 1112.07,211.768 1114.04,210.464 1116.01,209.176 1117.97,207.905 1119.94,206.652 1121.9,205.415 \n",
       "  1123.87,204.196 1125.84,202.994 1127.8,201.809 1129.77,200.642 1131.74,199.492 1133.7,198.36 1135.67,197.245 1137.63,196.148 1139.6,195.068 1141.57,194.006 \n",
       "  1143.53,192.962 1145.5,191.935 1147.47,190.926 1149.43,189.935 1151.4,188.962 1153.36,188.007 1155.33,187.07 1157.3,186.15 1159.26,185.249 1161.23,184.365 \n",
       "  1163.2,183.5 1165.16,182.653 1167.13,181.823 1169.09,181.012 1171.06,180.219 1173.03,179.444 1174.99,178.687 1176.96,177.949 1178.93,177.228 1180.89,176.526 \n",
       "  1182.86,175.841 1184.82,175.175 1186.79,174.527 1188.76,173.897 1190.72,173.286 1192.69,172.692 1194.66,172.117 1196.62,171.56 1198.59,171.021 1200.55,170.5 \n",
       "  1202.52,169.998 1204.49,169.513 1206.45,169.047 1208.42,168.598 1210.39,168.168 1212.35,167.755 1214.32,167.361 1216.28,166.985 1218.25,166.627 1220.22,166.286 \n",
       "  1222.18,165.964 1224.15,165.659 1226.12,165.373 1228.08,165.104 1230.05,164.853 1232.01,164.62 1233.98,164.404 1235.95,164.207 1237.91,164.026 1239.88,163.864 \n",
       "  1241.85,163.719 1243.81,163.592 1245.78,163.482 1247.74,163.389 1249.71,163.314 1251.68,163.257 1253.64,163.216 1255.61,163.193 1257.58,163.187 1259.54,163.198 \n",
       "  1261.51,163.227 1263.47,163.272 1265.44,163.334 1267.41,163.413 1269.37,163.509 1271.34,163.622 1273.31,163.752 1275.27,163.898 1277.24,164.061 1279.2,164.24 \n",
       "  1281.17,164.436 1283.14,164.649 1285.1,164.877 1287.07,165.122 1289.04,165.383 1291,165.661 1292.97,165.954 1294.93,166.263 1296.9,166.589 1298.87,166.93 \n",
       "  1300.83,167.286 1302.8,167.659 1304.77,168.047 1306.73,168.451 1308.7,168.87 1310.66,169.304 1312.63,169.754 1314.6,170.219 1316.56,170.699 1318.53,171.194 \n",
       "  1320.5,171.704 1322.46,172.229 1324.43,172.769 1326.39,173.323 1328.36,173.892 1330.33,174.475 1332.29,175.073 1334.26,175.686 1336.23,176.312 1338.19,176.953 \n",
       "  1340.16,177.607 1342.12,178.276 1344.09,178.959 1346.06,179.655 1348.02,180.365 1349.99,181.089 1351.96,181.826 1353.92,182.576 1355.89,183.34 1357.85,184.117 \n",
       "  1359.82,184.908 1361.79,185.711 1363.75,186.527 1365.72,187.356 1367.69,188.198 1369.65,189.052 1371.62,189.919 1373.58,190.798 1375.55,191.689 1377.52,192.593 \n",
       "  1379.48,193.509 1381.45,194.437 1383.42,195.377 1385.38,196.328 1387.35,197.292 1389.31,198.267 1391.28,199.253 1393.25,200.251 1395.21,201.26 1397.18,202.281 \n",
       "  1399.15,203.312 1401.11,204.354 1403.08,205.408 1405.04,206.472 1407.01,207.546 1408.98,208.632 1410.94,209.727 1412.91,210.833 1414.88,211.95 1416.84,213.076 \n",
       "  1418.81,214.212 1420.77,215.359 1422.74,216.515 1424.71,217.681 1426.67,218.856 1428.64,220.041 1430.61,221.235 1432.57,222.439 1434.54,223.652 1436.5,224.873 \n",
       "  1438.47,226.104 1440.44,227.344 1442.4,228.592 1444.37,229.849 1446.34,231.114 1448.3,232.388 1450.27,233.67 1452.23,234.96 1454.2,236.258 1456.17,237.565 \n",
       "  1458.13,238.879 1460.1,240.201 1462.07,241.53 1464.03,242.867 1466,244.211 1467.96,245.563 1469.93,246.922 1471.9,248.288 1473.86,249.661 1475.83,251.041 \n",
       "  1477.8,252.427 1479.76,253.82 1481.73,255.22 1483.69,256.626 1485.66,258.038 1487.63,259.457 1489.59,260.882 1491.56,262.312 1493.53,263.749 1495.49,265.191 \n",
       "  1497.46,266.639 1499.42,268.092 1501.39,269.551 1503.36,271.015 1505.32,272.485 1507.29,273.959 1509.26,275.439 1511.22,276.923 1513.19,278.412 1515.15,279.906 \n",
       "  1517.12,281.405 1519.09,282.907 1521.05,284.414 1523.02,285.926 1524.99,287.441 1526.95,288.961 1528.92,290.484 1530.88,292.011 1532.85,293.542 1534.82,295.076 \n",
       "  1536.78,296.614 1538.75,298.156 1540.72,299.7 1542.68,301.248 1544.65,302.798 1546.61,304.352 1548.58,305.908 1550.55,307.467 1552.51,309.029 1554.48,310.593 \n",
       "  1556.45,312.16 1558.41,313.729 1560.38,315.3 1562.34,316.873 1564.31,318.448 1566.28,320.025 1568.24,321.603 1570.21,323.184 1572.18,324.766 1574.14,326.349 \n",
       "  1576.11,327.933 1578.07,329.519 1580.04,331.106 1582.01,332.694 1583.97,334.283 1585.94,335.873 1587.91,337.463 1589.87,339.054 1591.84,340.646 1593.8,342.238 \n",
       "  1595.77,343.83 1597.74,345.422 1599.7,347.015 1601.67,348.607 1603.64,350.199 1605.6,351.792 1607.57,353.383 1609.53,354.975 1611.5,356.566 1613.47,358.156 \n",
       "  1615.43,359.745 1617.4,361.334 1619.37,362.922 1621.33,364.508 1623.3,366.094 1625.26,367.678 1627.23,369.261 1629.2,370.843 1631.16,372.423 1633.13,374.002 \n",
       "  1635.1,375.579 1637.06,377.154 1639.03,378.727 1641,380.298 1642.96,381.867 1644.93,383.434 1646.89,384.998 1648.86,386.56 1650.83,388.12 1652.79,389.677 \n",
       "  1654.76,391.231 1656.73,392.783 1658.69,394.332 1660.66,395.878 1662.62,397.42 1664.59,398.96 1666.56,400.497 1668.52,402.03 1670.49,403.559 1672.46,405.086 \n",
       "  1674.42,406.608 1676.39,408.127 1678.35,409.643 1680.32,411.154 1682.29,412.661 1684.25,414.165 1686.22,415.664 1688.19,417.159 1690.15,418.65 1692.12,420.136 \n",
       "  1694.08,421.618 1696.05,423.095 1698.02,424.568 1699.98,426.036 1701.95,427.499 1703.92,428.957 1705.88,430.411 1707.85,431.859 1709.81,433.302 1711.78,434.74 \n",
       "  1713.75,436.172 1715.71,437.599 1717.68,439.021 1719.65,440.437 1721.61,441.847 1723.58,443.252 1725.54,444.651 1727.51,446.044 1729.48,447.431 1731.44,448.812 \n",
       "  1733.41,450.187 1735.38,451.556 1737.34,452.918 1739.31,454.274 1741.27,455.624 1743.24,456.967 1745.21,458.304 1747.17,459.634 1749.14,460.957 1751.11,462.274 \n",
       "  1753.07,463.583 1755.04,464.886 1757,466.182 1758.97,467.47 1760.94,468.751 1762.9,470.026 1764.87,471.293 1766.84,472.552 1768.8,473.804 1770.77,475.049 \n",
       "  1772.73,476.286 1774.7,477.515 1776.67,478.737 1778.63,479.95 1780.6,481.156 1782.57,482.354 1784.53,483.545 1786.5,484.727 1788.46,485.901 1790.43,487.066 \n",
       "  1792.4,488.224 1794.36,489.373 1796.33,490.514 1798.3,491.646 1800.26,492.77 1802.23,493.886 1804.19,494.993 1806.16,496.091 1808.13,497.18 1810.09,498.261 \n",
       "  1812.06,499.332 1814.03,500.395 1815.99,501.449 1817.96,502.494 1819.92,503.53 1821.89,504.556 1823.86,505.574 1825.82,506.582 1827.79,507.581 1829.76,508.57 \n",
       "  1831.72,509.55 1833.69,510.521 1835.65,511.482 1837.62,512.433 1839.59,513.375 1841.55,514.308 1843.52,515.23 1845.49,516.143 1847.45,517.046 1849.42,517.938 \n",
       "  1851.38,518.822 1853.35,519.695 1855.32,520.558 1857.28,521.41 1859.25,522.253 1861.22,523.086 1863.18,523.908 1865.15,524.72 1867.11,525.522 1869.08,526.314 \n",
       "  1871.05,527.095 1873.01,527.865 1874.98,528.625 1876.95,529.375 1878.91,530.114 1880.88,530.842 1882.84,531.56 1884.81,532.267 1886.78,532.963 1888.74,533.649 \n",
       "  1890.71,534.323 1892.68,534.987 1894.64,535.64 1896.61,536.282 1898.57,536.913 1900.54,537.532 1902.51,538.141 1904.47,538.739 1906.44,539.326 1908.41,539.901 \n",
       "  1910.37,540.465 1912.34,541.018 1914.3,541.56 1916.27,542.09 1918.24,542.609 1920.2,543.117 1922.17,543.613 1924.14,544.097 1926.1,544.571 1928.07,545.032 \n",
       "  1930.03,545.482 1932,545.921 1933.97,546.348 1935.93,546.763 1937.9,547.167 1939.87,547.559 1941.83,547.939 1943.8,548.308 1945.76,548.664 1947.73,549.009 \n",
       "  1949.7,549.342 1951.66,549.663 1953.63,549.973 1955.6,550.27 1957.56,550.555 1959.53,550.829 1961.49,551.09 1963.46,551.34 1965.43,551.577 1967.39,551.802 \n",
       "  1969.36,552.016 1971.33,552.217 1973.29,552.406 1975.26,552.582 1977.22,552.747 1979.19,552.899 1981.16,553.039 1983.12,553.167 1985.09,553.283 1987.06,553.386 \n",
       "  1989.02,553.478 1990.99,553.556 1992.95,553.623 1994.92,553.677 1996.89,553.718 1998.85,553.748 2000.82,553.765 2002.79,553.769 2004.75,553.761 2006.72,553.741 \n",
       "  2008.68,553.708 2010.65,553.662 2012.62,553.604 2014.58,553.534 2016.55,553.451 2018.52,553.355 2020.48,553.247 2022.45,553.127 2024.41,552.994 2026.38,552.848 \n",
       "  2028.35,552.689 2030.31,552.519 2032.28,552.335 2034.25,552.139 2036.21,551.93 2038.18,551.708 2040.14,551.474 2042.11,551.227 2044.08,550.968 2046.04,550.696 \n",
       "  2048.01,550.411 2049.98,550.113 2051.94,549.803 2053.91,549.48 2055.87,549.145 2057.84,548.796 2059.81,548.435 2061.77,548.062 2063.74,547.675 2065.71,547.276 \n",
       "  2067.67,546.864 2069.64,546.44 2071.6,546.002 2073.57,545.552 2075.54,545.09 2077.5,544.614 2079.47,544.126 2081.44,543.625 2083.4,543.111 2085.37,542.585 \n",
       "  2087.33,542.046 2089.3,541.494 2091.27,540.93 2093.23,540.353 2095.2,539.763 2097.17,539.16 2099.13,538.545 2101.1,537.917 2103.06,537.277 2105.03,536.624 \n",
       "  2107,535.958 2108.96,535.279 2110.93,534.588 2112.9,533.884 2114.86,533.168 2116.83,532.439 2118.79,531.698 2120.76,530.943 2122.73,530.177 2124.69,529.398 \n",
       "  2126.66,528.606 2128.63,527.802 2130.59,526.985 2132.56,526.156 2134.52,525.314 2136.49,524.46 2138.46,523.593 2140.42,522.714 2142.39,521.823 2144.36,520.919 \n",
       "  2146.32,520.003 2148.29,519.074 2150.25,518.133 2152.22,517.18 2154.19,516.215 2156.15,515.237 2158.12,514.247 2160.09,513.245 2162.05,512.231 2164.02,511.205 \n",
       "  2165.98,510.166 2167.95,509.116 2169.92,508.053 2171.88,506.979 2173.85,505.892 2175.82,504.793 2177.78,503.683 2179.75,502.56 2181.71,501.426 2183.68,500.28 \n",
       "  2185.65,499.122 2187.61,497.952 2189.58,496.771 2191.55,495.578 2193.51,494.373 2195.48,493.157 2197.44,491.929 2199.41,490.69 2201.38,489.439 2203.34,488.176 \n",
       "  2205.31,486.902 2207.28,485.617 2209.24,484.321 2211.21,483.013 2213.17,481.694 2215.14,480.364 2217.11,479.023 2219.07,477.671 2221.04,476.308 2223.01,474.934 \n",
       "  2224.97,473.549 2226.94,472.153 2228.9,470.746 2230.87,469.329 2232.84,467.901 2234.8,466.462 2236.77,465.013 2238.74,463.553 2240.7,462.083 2242.67,460.603 \n",
       "  2244.63,459.112 2246.6,457.611 2248.57,456.1 2250.53,454.579 2252.5,453.047 2254.47,451.506 2256.43,449.955 2258.4,448.394 2260.36,446.824 2262.33,445.244 \n",
       "  \n",
       "  \"/>\n",
       "<polyline clip-path=\"url(#clip7803)\" style=\"stroke:#e26f46; stroke-width:8; stroke-opacity:1; fill:none\" points=\"\n",
       "  298.044,1403.28 300.01,1403.25 301.976,1403.1 303.942,1402.93 305.909,1402.76 307.875,1402.58 309.841,1402.41 311.807,1402.24 313.774,1402.07 315.74,1401.9 \n",
       "  317.706,1401.74 319.672,1401.57 321.639,1401.41 323.605,1401.24 325.571,1401.08 327.538,1400.92 329.504,1400.75 331.47,1400.59 333.436,1400.44 335.403,1400.28 \n",
       "  337.369,1400.12 339.335,1399.97 341.301,1399.81 343.268,1399.66 345.234,1399.5 347.2,1399.35 349.166,1399.2 351.133,1399.05 353.099,1398.9 355.065,1398.76 \n",
       "  357.031,1398.61 358.998,1398.47 360.964,1398.32 362.93,1398.18 364.896,1398.04 366.863,1397.9 368.829,1397.76 370.795,1397.62 372.761,1397.48 374.728,1397.34 \n",
       "  376.694,1397.21 378.66,1397.08 380.626,1396.94 382.593,1396.81 384.559,1396.68 386.525,1396.55 388.491,1396.42 390.458,1396.29 392.424,1396.17 394.39,1396.04 \n",
       "  396.356,1395.92 398.323,1395.8 400.289,1395.67 402.255,1395.55 404.221,1395.43 406.188,1395.32 408.154,1395.2 410.12,1395.08 412.086,1394.97 414.053,1394.85 \n",
       "  416.019,1394.74 417.985,1394.63 419.951,1394.52 421.918,1394.41 423.884,1394.3 425.85,1394.2 427.816,1394.09 429.783,1393.99 431.749,1393.89 433.715,1393.78 \n",
       "  435.681,1393.68 437.648,1393.58 439.614,1393.49 441.58,1393.39 443.546,1393.29 445.513,1393.2 447.479,1393.11 449.445,1393.02 451.411,1392.92 453.378,1392.84 \n",
       "  455.344,1392.75 457.31,1392.66 459.277,1392.57 461.243,1392.49 463.209,1392.41 465.175,1392.33 467.142,1392.24 469.108,1392.17 471.074,1392.09 473.04,1392.01 \n",
       "  475.007,1391.93 476.973,1391.86 478.939,1391.79 480.905,1391.71 482.872,1391.64 484.838,1391.57 486.804,1391.51 488.77,1391.44 490.737,1391.37 492.703,1391.31 \n",
       "  494.669,1391.24 496.635,1391.18 498.602,1391.12 500.568,1391.06 502.534,1391 504.5,1390.95 506.467,1390.89 508.433,1390.84 510.399,1390.78 512.365,1390.73 \n",
       "  514.332,1390.68 516.298,1390.63 518.264,1390.58 520.23,1390.53 522.197,1390.48 524.163,1390.44 526.129,1390.4 528.095,1390.35 530.062,1390.31 532.028,1390.27 \n",
       "  533.994,1390.23 535.96,1390.19 537.927,1390.15 539.893,1390.12 541.859,1390.08 543.825,1390.05 545.792,1390.02 547.758,1389.98 549.724,1389.95 551.69,1389.92 \n",
       "  553.657,1389.89 555.623,1389.87 557.589,1389.84 559.555,1389.81 561.522,1389.79 563.488,1389.77 565.454,1389.74 567.42,1389.72 569.387,1389.7 571.353,1389.68 \n",
       "  573.319,1389.66 575.285,1389.65 577.252,1389.63 579.218,1389.61 581.184,1389.6 583.15,1389.58 585.117,1389.57 587.083,1389.56 589.049,1389.54 591.016,1389.53 \n",
       "  592.982,1389.52 594.948,1389.51 596.914,1389.5 598.881,1389.5 600.847,1389.49 602.813,1389.48 604.779,1389.48 606.746,1389.47 608.712,1389.47 610.678,1389.46 \n",
       "  612.644,1389.46 614.611,1389.46 616.577,1389.45 618.543,1389.45 620.509,1389.45 622.476,1389.45 624.442,1389.45 626.408,1389.45 628.374,1389.45 630.341,1389.45 \n",
       "  632.307,1389.45 634.273,1389.46 636.239,1389.46 638.206,1389.46 640.172,1389.46 642.138,1389.47 644.104,1389.47 646.071,1389.47 648.037,1389.48 650.003,1389.48 \n",
       "  651.969,1389.49 653.936,1389.49 655.902,1389.5 657.868,1389.5 659.834,1389.5 661.801,1389.51 663.767,1389.51 665.733,1389.52 667.699,1389.52 669.666,1389.53 \n",
       "  671.632,1389.53 673.598,1389.54 675.564,1389.54 677.531,1389.54 679.497,1389.55 681.463,1389.55 683.429,1389.55 685.396,1389.56 687.362,1389.56 689.328,1389.56 \n",
       "  691.294,1389.56 693.261,1389.56 695.227,1389.56 697.193,1389.56 699.159,1389.56 701.126,1389.56 703.092,1389.56 705.058,1389.56 707.024,1389.55 708.991,1389.55 \n",
       "  710.957,1389.55 712.923,1389.54 714.89,1389.54 716.856,1389.53 718.822,1389.52 720.788,1389.51 722.755,1389.5 724.721,1389.49 726.687,1389.48 728.653,1389.47 \n",
       "  730.62,1389.46 732.586,1389.44 734.552,1389.43 736.518,1389.41 738.485,1389.39 740.451,1389.37 742.417,1389.35 744.383,1389.33 746.35,1389.31 748.316,1389.28 \n",
       "  750.282,1389.26 752.248,1389.23 754.215,1389.2 756.181,1389.17 758.147,1389.14 760.113,1389.1 762.08,1389.07 764.046,1389.03 766.012,1388.99 767.978,1388.95 \n",
       "  769.945,1388.91 771.911,1388.87 773.877,1388.82 775.843,1388.77 777.81,1388.73 779.776,1388.67 781.742,1388.62 783.708,1388.57 785.675,1388.51 787.641,1388.45 \n",
       "  789.607,1388.39 791.573,1388.32 793.54,1388.26 795.506,1388.19 797.472,1388.12 799.438,1388.05 801.405,1387.97 803.371,1387.89 805.337,1387.81 807.303,1387.73 \n",
       "  809.27,1387.65 811.236,1387.56 813.202,1387.47 815.168,1387.38 817.135,1387.28 819.101,1387.19 821.067,1387.09 823.033,1386.98 825,1386.88 826.966,1386.77 \n",
       "  828.932,1386.66 830.898,1386.55 832.865,1386.43 834.831,1386.31 836.797,1386.19 838.763,1386.06 840.73,1385.93 842.696,1385.8 844.662,1385.67 846.629,1385.53 \n",
       "  848.595,1385.39 850.561,1385.25 852.527,1385.1 854.494,1384.95 856.46,1384.8 858.426,1384.64 860.392,1384.48 862.359,1384.32 864.325,1384.15 866.291,1383.98 \n",
       "  868.257,1383.81 870.224,1383.63 872.19,1383.45 874.156,1383.27 876.122,1383.08 878.089,1382.89 880.055,1382.7 882.021,1382.5 883.987,1382.3 885.954,1382.1 \n",
       "  887.92,1381.89 889.886,1381.68 891.852,1381.46 893.819,1381.24 895.785,1381.02 897.751,1380.8 899.717,1380.57 901.684,1380.33 903.65,1380.1 905.616,1379.86 \n",
       "  907.582,1379.61 909.549,1379.36 911.515,1379.11 913.481,1378.85 915.447,1378.59 917.414,1378.33 919.38,1378.06 921.346,1377.79 923.312,1377.52 925.279,1377.24 \n",
       "  927.245,1376.96 929.211,1376.67 931.177,1376.38 933.144,1376.08 935.11,1375.79 937.076,1375.48 939.042,1375.18 941.009,1374.87 942.975,1374.55 944.941,1374.24 \n",
       "  946.907,1373.91 948.874,1373.59 950.84,1373.26 952.806,1372.92 954.772,1372.59 956.739,1372.25 958.705,1371.9 960.671,1371.55 962.637,1371.2 964.604,1370.84 \n",
       "  966.57,1370.48 968.536,1370.12 970.502,1369.75 972.469,1369.37 974.435,1369 976.401,1368.62 978.368,1368.23 980.334,1367.85 982.3,1367.45 984.266,1367.06 \n",
       "  986.233,1366.66 988.199,1366.26 990.165,1365.85 992.131,1365.44 994.098,1365.03 996.064,1364.61 998.03,1364.19 999.996,1363.76 1001.96,1363.33 1003.93,1362.9 \n",
       "  1005.9,1362.46 1007.86,1362.02 1009.83,1361.58 1011.79,1361.13 1013.76,1360.68 1015.73,1360.23 1017.69,1359.77 1019.66,1359.31 1021.63,1358.85 1023.59,1358.38 \n",
       "  1025.56,1357.91 1027.52,1357.43 1029.49,1356.96 1031.46,1356.48 1033.42,1355.99 1035.39,1355.51 1037.36,1355.01 1039.32,1354.52 1041.29,1354.03 1043.25,1353.53 \n",
       "  1045.22,1353.02 1047.19,1352.52 1049.15,1352.01 1051.12,1351.5 1053.09,1350.98 1055.05,1350.47 1057.02,1349.95 1058.98,1349.43 1060.95,1348.9 1062.92,1348.37 \n",
       "  1064.88,1347.84 1066.85,1347.31 1068.82,1346.77 1070.78,1346.24 1072.75,1345.7 1074.71,1345.15 1076.68,1344.61 1078.65,1344.06 1080.61,1343.51 1082.58,1342.96 \n",
       "  1084.55,1342.41 1086.51,1341.85 1088.48,1341.3 1090.44,1340.74 1092.41,1340.17 1094.38,1339.61 1096.34,1339.05 1098.31,1338.48 1100.28,1337.91 1102.24,1337.34 \n",
       "  1104.21,1336.77 1106.17,1336.2 1108.14,1335.62 1110.11,1335.05 1112.07,1334.47 1114.04,1333.89 1116.01,1333.31 1117.97,1332.73 1119.94,1332.15 1121.9,1331.57 \n",
       "  1123.87,1330.98 1125.84,1330.4 1127.8,1329.81 1129.77,1329.23 1131.74,1328.64 1133.7,1328.05 1135.67,1327.46 1137.63,1326.87 1139.6,1326.28 1141.57,1325.69 \n",
       "  1143.53,1325.1 1145.5,1324.51 1147.47,1323.92 1149.43,1323.33 1151.4,1322.74 1153.36,1322.15 1155.33,1321.56 1157.3,1320.97 1159.26,1320.38 1161.23,1319.79 \n",
       "  1163.2,1319.2 1165.16,1318.61 1167.13,1318.02 1169.09,1317.43 1171.06,1316.85 1173.03,1316.26 1174.99,1315.67 1176.96,1315.09 1178.93,1314.5 1180.89,1313.92 \n",
       "  1182.86,1313.33 1184.82,1312.75 1186.79,1312.17 1188.76,1311.59 1190.72,1311.01 1192.69,1310.44 1194.66,1309.86 1196.62,1309.29 1198.59,1308.72 1200.55,1308.14 \n",
       "  1202.52,1307.57 1204.49,1307.01 1206.45,1306.44 1208.42,1305.88 1210.39,1305.31 1212.35,1304.75 1214.32,1304.2 1216.28,1303.64 1218.25,1303.09 1220.22,1302.53 \n",
       "  1222.18,1301.98 1224.15,1301.44 1226.12,1300.89 1228.08,1300.35 1230.05,1299.81 1232.01,1299.27 1233.98,1298.74 1235.95,1298.21 1237.91,1297.68 1239.88,1297.15 \n",
       "  1241.85,1296.63 1243.81,1296.11 1245.78,1295.59 1247.74,1295.08 1249.71,1294.56 1251.68,1294.06 1253.64,1293.55 1255.61,1293.05 1257.58,1292.55 1259.54,1292.06 \n",
       "  1261.51,1291.56 1263.47,1291.08 1265.44,1290.59 1267.41,1290.11 1269.37,1289.63 1271.34,1289.16 1273.31,1288.69 1275.27,1288.22 1277.24,1287.76 1279.2,1287.3 \n",
       "  1281.17,1286.85 1283.14,1286.4 1285.1,1285.95 1287.07,1285.51 1289.04,1285.07 1291,1284.63 1292.97,1284.2 1294.93,1283.78 1296.9,1283.36 1298.87,1282.94 \n",
       "  1300.83,1282.53 1302.8,1282.12 1304.77,1281.71 1306.73,1281.31 1308.7,1280.92 1310.66,1280.52 1312.63,1280.14 1314.6,1279.76 1316.56,1279.38 1318.53,1279.01 \n",
       "  1320.5,1278.64 1322.46,1278.27 1324.43,1277.92 1326.39,1277.56 1328.36,1277.21 1330.33,1276.87 1332.29,1276.53 1334.26,1276.19 1336.23,1275.86 1338.19,1275.54 \n",
       "  1340.16,1275.22 1342.12,1274.9 1344.09,1274.59 1346.06,1274.29 1348.02,1273.98 1349.99,1273.69 1351.96,1273.4 1353.92,1273.11 1355.89,1272.83 1357.85,1272.56 \n",
       "  1359.82,1272.29 1361.79,1272.02 1363.75,1271.76 1365.72,1271.51 1367.69,1271.26 1369.65,1271.01 1371.62,1270.77 1373.58,1270.54 1375.55,1270.31 1377.52,1270.08 \n",
       "  1379.48,1269.86 1381.45,1269.65 1383.42,1269.44 1385.38,1269.23 1387.35,1269.04 1389.31,1268.84 1391.28,1268.65 1393.25,1268.47 1395.21,1268.29 1397.18,1268.12 \n",
       "  1399.15,1267.95 1401.11,1267.79 1403.08,1267.63 1405.04,1267.48 1407.01,1267.33 1408.98,1267.18 1410.94,1267.05 1412.91,1266.91 1414.88,1266.79 1416.84,1266.66 \n",
       "  1418.81,1266.55 1420.77,1266.43 1422.74,1266.33 1424.71,1266.22 1426.67,1266.12 1428.64,1266.03 1430.61,1265.94 1432.57,1265.86 1434.54,1265.78 1436.5,1265.71 \n",
       "  1438.47,1265.64 1440.44,1265.58 1442.4,1265.52 1444.37,1265.46 1446.34,1265.41 1448.3,1265.37 1450.27,1265.33 1452.23,1265.29 1454.2,1265.26 1456.17,1265.24 \n",
       "  1458.13,1265.21 1460.1,1265.2 1462.07,1265.18 1464.03,1265.18 1466,1265.17 1467.96,1265.17 1469.93,1265.18 1471.9,1265.19 1473.86,1265.2 1475.83,1265.22 \n",
       "  1477.8,1265.24 1479.76,1265.27 1481.73,1265.3 1483.69,1265.34 1485.66,1265.37 1487.63,1265.42 1489.59,1265.47 1491.56,1265.52 1493.53,1265.57 1495.49,1265.63 \n",
       "  1497.46,1265.7 1499.42,1265.76 1501.39,1265.83 1503.36,1265.91 1505.32,1265.99 1507.29,1266.07 1509.26,1266.16 1511.22,1266.25 1513.19,1266.34 1515.15,1266.44 \n",
       "  1517.12,1266.54 1519.09,1266.64 1521.05,1266.75 1523.02,1266.86 1524.99,1266.97 1526.95,1267.09 1528.92,1267.21 1530.88,1267.34 1532.85,1267.46 1534.82,1267.6 \n",
       "  1536.78,1267.73 1538.75,1267.87 1540.72,1268.01 1542.68,1268.15 1544.65,1268.29 1546.61,1268.44 1548.58,1268.59 1550.55,1268.75 1552.51,1268.91 1554.48,1269.07 \n",
       "  1556.45,1269.23 1558.41,1269.39 1560.38,1269.56 1562.34,1269.73 1564.31,1269.9 1566.28,1270.08 1568.24,1270.26 1570.21,1270.44 1572.18,1270.62 1574.14,1270.8 \n",
       "  1576.11,1270.99 1578.07,1271.18 1580.04,1271.37 1582.01,1271.57 1583.97,1271.76 1585.94,1271.96 1587.91,1272.16 1589.87,1272.36 1591.84,1272.56 1593.8,1272.77 \n",
       "  1595.77,1272.98 1597.74,1273.18 1599.7,1273.39 1601.67,1273.61 1603.64,1273.82 1605.6,1274.04 1607.57,1274.25 1609.53,1274.47 1611.5,1274.69 1613.47,1274.91 \n",
       "  1615.43,1275.14 1617.4,1275.36 1619.37,1275.59 1621.33,1275.81 1623.3,1276.04 1625.26,1276.27 1627.23,1276.5 1629.2,1276.73 1631.16,1276.96 1633.13,1277.2 \n",
       "  1635.1,1277.43 1637.06,1277.67 1639.03,1277.9 1641,1278.14 1642.96,1278.38 1644.93,1278.61 1646.89,1278.85 1648.86,1279.09 1650.83,1279.33 1652.79,1279.58 \n",
       "  1654.76,1279.82 1656.73,1280.06 1658.69,1280.3 1660.66,1280.55 1662.62,1280.79 1664.59,1281.03 1666.56,1281.28 1668.52,1281.52 1670.49,1281.77 1672.46,1282.01 \n",
       "  1674.42,1282.26 1676.39,1282.5 1678.35,1282.75 1680.32,1282.99 1682.29,1283.24 1684.25,1283.49 1686.22,1283.73 1688.19,1283.98 1690.15,1284.22 1692.12,1284.47 \n",
       "  1694.08,1284.72 1696.05,1284.96 1698.02,1285.21 1699.98,1285.45 1701.95,1285.7 1703.92,1285.94 1705.88,1286.18 1707.85,1286.43 1709.81,1286.67 1711.78,1286.91 \n",
       "  1713.75,1287.16 1715.71,1287.4 1717.68,1287.64 1719.65,1287.88 1721.61,1288.12 1723.58,1288.36 1725.54,1288.6 1727.51,1288.84 1729.48,1289.08 1731.44,1289.31 \n",
       "  1733.41,1289.55 1735.38,1289.79 1737.34,1290.02 1739.31,1290.26 1741.27,1290.49 1743.24,1290.72 1745.21,1290.95 1747.17,1291.18 1749.14,1291.41 1751.11,1291.64 \n",
       "  1753.07,1291.87 1755.04,1292.1 1757,1292.32 1758.97,1292.55 1760.94,1292.77 1762.9,1293 1764.87,1293.22 1766.84,1293.44 1768.8,1293.66 1770.77,1293.88 \n",
       "  1772.73,1294.09 1774.7,1294.31 1776.67,1294.52 1778.63,1294.74 1780.6,1294.95 1782.57,1295.16 1784.53,1295.37 1786.5,1295.58 1788.46,1295.79 1790.43,1295.99 \n",
       "  1792.4,1296.2 1794.36,1296.4 1796.33,1296.6 1798.3,1296.8 1800.26,1297 1802.23,1297.2 1804.19,1297.39 1806.16,1297.59 1808.13,1297.78 1810.09,1297.97 \n",
       "  1812.06,1298.16 1814.03,1298.35 1815.99,1298.54 1817.96,1298.73 1819.92,1298.91 1821.89,1299.09 1823.86,1299.27 1825.82,1299.45 1827.79,1299.63 1829.76,1299.81 \n",
       "  1831.72,1299.98 1833.69,1300.15 1835.65,1300.33 1837.62,1300.49 1839.59,1300.66 1841.55,1300.83 1843.52,1300.99 1845.49,1301.16 1847.45,1301.32 1849.42,1301.48 \n",
       "  1851.38,1301.64 1853.35,1301.79 1855.32,1301.95 1857.28,1302.1 1859.25,1302.25 1861.22,1302.4 1863.18,1302.55 1865.15,1302.69 1867.11,1302.83 1869.08,1302.98 \n",
       "  1871.05,1303.12 1873.01,1303.26 1874.98,1303.39 1876.95,1303.53 1878.91,1303.66 1880.88,1303.79 1882.84,1303.92 1884.81,1304.05 1886.78,1304.17 1888.74,1304.3 \n",
       "  1890.71,1304.42 1892.68,1304.54 1894.64,1304.66 1896.61,1304.78 1898.57,1304.89 1900.54,1305 1902.51,1305.11 1904.47,1305.22 1906.44,1305.33 1908.41,1305.44 \n",
       "  1910.37,1305.54 1912.34,1305.64 1914.3,1305.74 1916.27,1305.84 1918.24,1305.94 1920.2,1306.03 1922.17,1306.12 1924.14,1306.21 1926.1,1306.3 1928.07,1306.39 \n",
       "  1930.03,1306.47 1932,1306.56 1933.97,1306.64 1935.93,1306.72 1937.9,1306.79 1939.87,1306.87 1941.83,1306.94 1943.8,1307.01 1945.76,1307.08 1947.73,1307.15 \n",
       "  1949.7,1307.22 1951.66,1307.28 1953.63,1307.34 1955.6,1307.4 1957.56,1307.46 1959.53,1307.52 1961.49,1307.57 1963.46,1307.63 1965.43,1307.68 1967.39,1307.73 \n",
       "  1969.36,1307.77 1971.33,1307.82 1973.29,1307.86 1975.26,1307.91 1977.22,1307.95 1979.19,1307.98 1981.16,1308.02 1983.12,1308.05 1985.09,1308.09 1987.06,1308.12 \n",
       "  1989.02,1308.15 1990.99,1308.17 1992.95,1308.2 1994.92,1308.22 1996.89,1308.24 1998.85,1308.26 2000.82,1308.28 2002.79,1308.3 2004.75,1308.31 2006.72,1308.32 \n",
       "  2008.68,1308.33 2010.65,1308.34 2012.62,1308.35 2014.58,1308.36 2016.55,1308.36 2018.52,1308.36 2020.48,1308.36 2022.45,1308.36 2024.41,1308.36 2026.38,1308.35 \n",
       "  2028.35,1308.34 2030.31,1308.33 2032.28,1308.32 2034.25,1308.31 2036.21,1308.3 2038.18,1308.28 2040.14,1308.26 2042.11,1308.24 2044.08,1308.22 2046.04,1308.2 \n",
       "  2048.01,1308.18 2049.98,1308.15 2051.94,1308.12 2053.91,1308.09 2055.87,1308.06 2057.84,1308.03 2059.81,1308 2061.77,1307.96 2063.74,1307.92 2065.71,1307.88 \n",
       "  2067.67,1307.84 2069.64,1307.8 2071.6,1307.75 2073.57,1307.71 2075.54,1307.66 2077.5,1307.61 2079.47,1307.56 2081.44,1307.51 2083.4,1307.45 2085.37,1307.4 \n",
       "  2087.33,1307.34 2089.3,1307.28 2091.27,1307.22 2093.23,1307.16 2095.2,1307.1 2097.17,1307.03 2099.13,1306.97 2101.1,1306.9 2103.06,1306.83 2105.03,1306.76 \n",
       "  2107,1306.69 2108.96,1306.61 2110.93,1306.54 2112.9,1306.46 2114.86,1306.38 2116.83,1306.3 2118.79,1306.22 2120.76,1306.14 2122.73,1306.05 2124.69,1305.97 \n",
       "  2126.66,1305.88 2128.63,1305.79 2130.59,1305.7 2132.56,1305.61 2134.52,1305.51 2136.49,1305.42 2138.46,1305.32 2140.42,1305.23 2142.39,1305.13 2144.36,1305.03 \n",
       "  2146.32,1304.93 2148.29,1304.82 2150.25,1304.72 2152.22,1304.61 2154.19,1304.51 2156.15,1304.4 2158.12,1304.29 2160.09,1304.18 2162.05,1304.07 2164.02,1303.95 \n",
       "  2165.98,1303.84 2167.95,1303.72 2169.92,1303.6 2171.88,1303.49 2173.85,1303.37 2175.82,1303.24 2177.78,1303.12 2179.75,1303 2181.71,1302.87 2183.68,1302.75 \n",
       "  2185.65,1302.62 2187.61,1302.49 2189.58,1302.36 2191.55,1302.23 2193.51,1302.1 2195.48,1301.96 2197.44,1301.83 2199.41,1301.69 2201.38,1301.55 2203.34,1301.42 \n",
       "  2205.31,1301.28 2207.28,1301.14 2209.24,1300.99 2211.21,1300.85 2213.17,1300.71 2215.14,1300.56 2217.11,1300.41 2219.07,1300.27 2221.04,1300.12 2223.01,1299.97 \n",
       "  2224.97,1299.82 2226.94,1299.66 2228.9,1299.51 2230.87,1299.36 2232.84,1299.2 2234.8,1299.04 2236.77,1298.89 2238.74,1298.73 2240.7,1298.57 2242.67,1298.41 \n",
       "  2244.63,1298.25 2246.6,1298.08 2248.57,1297.92 2250.53,1297.75 2252.5,1297.59 2254.47,1297.42 2256.43,1297.25 2258.4,1297.08 2260.36,1296.91 2262.33,1296.74 \n",
       "  \n",
       "  \"/>\n",
       "<polyline clip-path=\"url(#clip7803)\" style=\"stroke:#3da44d; stroke-width:8; stroke-opacity:1; fill:none\" points=\"\n",
       "  298.044,1141.46 300.01,1141.45 301.976,1141.41 303.942,1141.36 305.909,1141.31 307.875,1141.25 309.841,1141.2 311.807,1141.15 313.774,1141.1 315.74,1141.05 \n",
       "  317.706,1141 319.672,1140.95 321.639,1140.9 323.605,1140.85 325.571,1140.8 327.538,1140.76 329.504,1140.71 331.47,1140.66 333.436,1140.61 335.403,1140.56 \n",
       "  337.369,1140.52 339.335,1140.47 341.301,1140.43 343.268,1140.38 345.234,1140.33 347.2,1140.29 349.166,1140.24 351.133,1140.2 353.099,1140.15 355.065,1140.11 \n",
       "  357.031,1140.07 358.998,1140.02 360.964,1139.98 362.93,1139.94 364.896,1139.89 366.863,1139.85 368.829,1139.81 370.795,1139.77 372.761,1139.73 374.728,1139.69 \n",
       "  376.694,1139.65 378.66,1139.61 380.626,1139.57 382.593,1139.53 384.559,1139.49 386.525,1139.45 388.491,1139.41 390.458,1139.37 392.424,1139.33 394.39,1139.29 \n",
       "  396.356,1139.26 398.323,1139.22 400.289,1139.18 402.255,1139.15 404.221,1139.11 406.188,1139.08 408.154,1139.04 410.12,1139 412.086,1138.97 414.053,1138.93 \n",
       "  416.019,1138.9 417.985,1138.87 419.951,1138.83 421.918,1138.8 423.884,1138.77 425.85,1138.73 427.816,1138.7 429.783,1138.67 431.749,1138.64 433.715,1138.61 \n",
       "  435.681,1138.58 437.648,1138.55 439.614,1138.52 441.58,1138.49 443.546,1138.46 445.513,1138.43 447.479,1138.4 449.445,1138.37 451.411,1138.34 453.378,1138.31 \n",
       "  455.344,1138.28 457.31,1138.26 459.277,1138.23 461.243,1138.2 463.209,1138.18 465.175,1138.15 467.142,1138.12 469.108,1138.1 471.074,1138.07 473.04,1138.05 \n",
       "  475.007,1138.02 476.973,1138 478.939,1137.98 480.905,1137.95 482.872,1137.93 484.838,1137.91 486.804,1137.88 488.77,1137.86 490.737,1137.84 492.703,1137.82 \n",
       "  494.669,1137.79 496.635,1137.77 498.602,1137.75 500.568,1137.73 502.534,1137.71 504.5,1137.69 506.467,1137.67 508.433,1137.65 510.399,1137.63 512.365,1137.61 \n",
       "  514.332,1137.59 516.298,1137.58 518.264,1137.56 520.23,1137.54 522.197,1137.52 524.163,1137.51 526.129,1137.49 528.095,1137.47 530.062,1137.46 532.028,1137.44 \n",
       "  533.994,1137.42 535.96,1137.41 537.927,1137.39 539.893,1137.38 541.859,1137.36 543.825,1137.35 545.792,1137.33 547.758,1137.32 549.724,1137.3 551.69,1137.29 \n",
       "  553.657,1137.28 555.623,1137.26 557.589,1137.25 559.555,1137.24 561.522,1137.22 563.488,1137.21 565.454,1137.2 567.42,1137.19 569.387,1137.17 571.353,1137.16 \n",
       "  573.319,1137.15 575.285,1137.14 577.252,1137.13 579.218,1137.12 581.184,1137.1 583.15,1137.09 585.117,1137.08 587.083,1137.07 589.049,1137.06 591.016,1137.05 \n",
       "  592.982,1137.04 594.948,1137.03 596.914,1137.02 598.881,1137.01 600.847,1137 602.813,1136.99 604.779,1136.98 606.746,1136.97 608.712,1136.96 610.678,1136.95 \n",
       "  612.644,1136.94 614.611,1136.93 616.577,1136.92 618.543,1136.92 620.509,1136.91 622.476,1136.9 624.442,1136.89 626.408,1136.88 628.374,1136.87 630.341,1136.86 \n",
       "  632.307,1136.85 634.273,1136.84 636.239,1136.83 638.206,1136.82 640.172,1136.81 642.138,1136.8 644.104,1136.8 646.071,1136.79 648.037,1136.78 650.003,1136.77 \n",
       "  651.969,1136.76 653.936,1136.75 655.902,1136.74 657.868,1136.73 659.834,1136.72 661.801,1136.71 663.767,1136.7 665.733,1136.69 667.699,1136.67 669.666,1136.66 \n",
       "  671.632,1136.65 673.598,1136.64 675.564,1136.63 677.531,1136.62 679.497,1136.61 681.463,1136.59 683.429,1136.58 685.396,1136.57 687.362,1136.56 689.328,1136.54 \n",
       "  691.294,1136.53 693.261,1136.51 695.227,1136.5 697.193,1136.49 699.159,1136.47 701.126,1136.46 703.092,1136.44 705.058,1136.43 707.024,1136.41 708.991,1136.39 \n",
       "  710.957,1136.38 712.923,1136.36 714.89,1136.34 716.856,1136.32 718.822,1136.31 720.788,1136.29 722.755,1136.27 724.721,1136.25 726.687,1136.23 728.653,1136.21 \n",
       "  730.62,1136.19 732.586,1136.16 734.552,1136.14 736.518,1136.12 738.485,1136.1 740.451,1136.07 742.417,1136.05 744.383,1136.02 746.35,1136 748.316,1135.97 \n",
       "  750.282,1135.94 752.248,1135.92 754.215,1135.89 756.181,1135.86 758.147,1135.83 760.113,1135.8 762.08,1135.77 764.046,1135.74 766.012,1135.71 767.978,1135.68 \n",
       "  769.945,1135.64 771.911,1135.61 773.877,1135.57 775.843,1135.54 777.81,1135.5 779.776,1135.47 781.742,1135.43 783.708,1135.39 785.675,1135.35 787.641,1135.31 \n",
       "  789.607,1135.27 791.573,1135.23 793.54,1135.19 795.506,1135.14 797.472,1135.1 799.438,1135.05 801.405,1135.01 803.371,1134.96 805.337,1134.91 807.303,1134.86 \n",
       "  809.27,1134.82 811.236,1134.76 813.202,1134.71 815.168,1134.66 817.135,1134.61 819.101,1134.55 821.067,1134.5 823.033,1134.44 825,1134.38 826.966,1134.33 \n",
       "  828.932,1134.27 830.898,1134.21 832.865,1134.15 834.831,1134.08 836.797,1134.02 838.763,1133.96 840.73,1133.89 842.696,1133.82 844.662,1133.76 846.629,1133.69 \n",
       "  848.595,1133.62 850.561,1133.55 852.527,1133.47 854.494,1133.4 856.46,1133.33 858.426,1133.25 860.392,1133.18 862.359,1133.1 864.325,1133.02 866.291,1132.94 \n",
       "  868.257,1132.86 870.224,1132.78 872.19,1132.69 874.156,1132.61 876.122,1132.52 878.089,1132.43 880.055,1132.35 882.021,1132.26 883.987,1132.17 885.954,1132.07 \n",
       "  887.92,1131.98 889.886,1131.89 891.852,1131.79 893.819,1131.69 895.785,1131.59 897.751,1131.5 899.717,1131.39 901.684,1131.29 903.65,1131.19 905.616,1131.08 \n",
       "  907.582,1130.98 909.549,1130.87 911.515,1130.76 913.481,1130.65 915.447,1130.54 917.414,1130.43 919.38,1130.32 921.346,1130.2 923.312,1130.09 925.279,1129.97 \n",
       "  927.245,1129.85 929.211,1129.73 931.177,1129.61 933.144,1129.49 935.11,1129.37 937.076,1129.24 939.042,1129.12 941.009,1128.99 942.975,1128.86 944.941,1128.73 \n",
       "  946.907,1128.6 948.874,1128.47 950.84,1128.33 952.806,1128.2 954.772,1128.06 956.739,1127.93 958.705,1127.79 960.671,1127.65 962.637,1127.51 964.604,1127.37 \n",
       "  966.57,1127.22 968.536,1127.08 970.502,1126.93 972.469,1126.78 974.435,1126.64 976.401,1126.49 978.368,1126.34 980.334,1126.19 982.3,1126.03 984.266,1125.88 \n",
       "  986.233,1125.72 988.199,1125.57 990.165,1125.41 992.131,1125.25 994.098,1125.09 996.064,1124.93 998.03,1124.77 999.996,1124.61 1001.96,1124.44 1003.93,1124.28 \n",
       "  1005.9,1124.11 1007.86,1123.94 1009.83,1123.78 1011.79,1123.61 1013.76,1123.44 1015.73,1123.27 1017.69,1123.09 1019.66,1122.92 1021.63,1122.75 1023.59,1122.57 \n",
       "  1025.56,1122.4 1027.52,1122.22 1029.49,1122.04 1031.46,1121.86 1033.42,1121.68 1035.39,1121.5 1037.36,1121.32 1039.32,1121.14 1041.29,1120.96 1043.25,1120.78 \n",
       "  1045.22,1120.59 1047.19,1120.41 1049.15,1120.22 1051.12,1120.04 1053.09,1119.85 1055.05,1119.66 1057.02,1119.47 1058.98,1119.28 1060.95,1119.09 1062.92,1118.9 \n",
       "  1064.88,1118.71 1066.85,1118.52 1068.82,1118.33 1070.78,1118.14 1072.75,1117.94 1074.71,1117.75 1076.68,1117.56 1078.65,1117.36 1080.61,1117.17 1082.58,1116.97 \n",
       "  1084.55,1116.78 1086.51,1116.58 1088.48,1116.38 1090.44,1116.19 1092.41,1115.99 1094.38,1115.79 1096.34,1115.6 1098.31,1115.4 1100.28,1115.2 1102.24,1115 \n",
       "  1104.21,1114.8 1106.17,1114.61 1108.14,1114.41 1110.11,1114.21 1112.07,1114.01 1114.04,1113.81 1116.01,1113.61 1117.97,1113.41 1119.94,1113.21 1121.9,1113.02 \n",
       "  1123.87,1112.82 1125.84,1112.62 1127.8,1112.42 1129.77,1112.22 1131.74,1112.02 1133.7,1111.82 1135.67,1111.63 1137.63,1111.43 1139.6,1111.23 1141.57,1111.03 \n",
       "  1143.53,1110.84 1145.5,1110.64 1147.47,1110.44 1149.43,1110.25 1151.4,1110.05 1153.36,1109.86 1155.33,1109.66 1157.3,1109.47 1159.26,1109.27 1161.23,1109.08 \n",
       "  1163.2,1108.89 1165.16,1108.69 1167.13,1108.5 1169.09,1108.31 1171.06,1108.12 1173.03,1107.93 1174.99,1107.74 1176.96,1107.55 1178.93,1107.36 1180.89,1107.17 \n",
       "  1182.86,1106.99 1184.82,1106.8 1186.79,1106.62 1188.76,1106.43 1190.72,1106.25 1192.69,1106.07 1194.66,1105.88 1196.62,1105.7 1198.59,1105.52 1200.55,1105.34 \n",
       "  1202.52,1105.16 1204.49,1104.99 1206.45,1104.81 1208.42,1104.63 1210.39,1104.46 1212.35,1104.29 1214.32,1104.11 1216.28,1103.94 1218.25,1103.77 1220.22,1103.6 \n",
       "  1222.18,1103.43 1224.15,1103.27 1226.12,1103.1 1228.08,1102.94 1230.05,1102.77 1232.01,1102.61 1233.98,1102.45 1235.95,1102.29 1237.91,1102.13 1239.88,1101.97 \n",
       "  1241.85,1101.82 1243.81,1101.66 1245.78,1101.51 1247.74,1101.35 1249.71,1101.2 1251.68,1101.05 1253.64,1100.9 1255.61,1100.76 1257.58,1100.61 1259.54,1100.47 \n",
       "  1261.51,1100.32 1263.47,1100.18 1265.44,1100.04 1267.41,1099.9 1269.37,1099.77 1271.34,1099.63 1273.31,1099.5 1275.27,1099.36 1277.24,1099.23 1279.2,1099.1 \n",
       "  1281.17,1098.97 1283.14,1098.85 1285.1,1098.72 1287.07,1098.6 1289.04,1098.47 1291,1098.35 1292.97,1098.23 1294.93,1098.11 1296.9,1098 1298.87,1097.88 \n",
       "  1300.83,1097.77 1302.8,1097.66 1304.77,1097.55 1306.73,1097.44 1308.7,1097.33 1310.66,1097.22 1312.63,1097.12 1314.6,1097.02 1316.56,1096.92 1318.53,1096.82 \n",
       "  1320.5,1096.72 1322.46,1096.62 1324.43,1096.53 1326.39,1096.43 1328.36,1096.34 1330.33,1096.25 1332.29,1096.16 1334.26,1096.08 1336.23,1095.99 1338.19,1095.91 \n",
       "  1340.16,1095.82 1342.12,1095.74 1344.09,1095.66 1346.06,1095.59 1348.02,1095.51 1349.99,1095.43 1351.96,1095.36 1353.92,1095.29 1355.89,1095.22 1357.85,1095.15 \n",
       "  1359.82,1095.08 1361.79,1095.02 1363.75,1094.95 1365.72,1094.89 1367.69,1094.83 1369.65,1094.77 1371.62,1094.71 1373.58,1094.65 1375.55,1094.6 1377.52,1094.54 \n",
       "  1379.48,1094.49 1381.45,1094.44 1383.42,1094.39 1385.38,1094.34 1387.35,1094.29 1389.31,1094.24 1391.28,1094.2 1393.25,1094.16 1395.21,1094.11 1397.18,1094.07 \n",
       "  1399.15,1094.03 1401.11,1093.99 1403.08,1093.96 1405.04,1093.92 1407.01,1093.89 1408.98,1093.85 1410.94,1093.82 1412.91,1093.79 1414.88,1093.76 1416.84,1093.73 \n",
       "  1418.81,1093.71 1420.77,1093.68 1422.74,1093.66 1424.71,1093.63 1426.67,1093.61 1428.64,1093.59 1430.61,1093.57 1432.57,1093.55 1434.54,1093.53 1436.5,1093.51 \n",
       "  1438.47,1093.5 1440.44,1093.48 1442.4,1093.47 1444.37,1093.45 1446.34,1093.44 1448.3,1093.43 1450.27,1093.42 1452.23,1093.41 1454.2,1093.4 1456.17,1093.39 \n",
       "  1458.13,1093.39 1460.1,1093.38 1462.07,1093.37 1464.03,1093.37 1466,1093.37 1467.96,1093.36 1469.93,1093.36 1471.9,1093.36 1473.86,1093.36 1475.83,1093.36 \n",
       "  1477.8,1093.36 1479.76,1093.36 1481.73,1093.36 1483.69,1093.37 1485.66,1093.37 1487.63,1093.37 1489.59,1093.38 1491.56,1093.38 1493.53,1093.39 1495.49,1093.4 \n",
       "  1497.46,1093.4 1499.42,1093.41 1501.39,1093.42 1503.36,1093.43 1505.32,1093.44 1507.29,1093.45 1509.26,1093.46 1511.22,1093.47 1513.19,1093.48 1515.15,1093.49 \n",
       "  1517.12,1093.5 1519.09,1093.51 1521.05,1093.52 1523.02,1093.54 1524.99,1093.55 1526.95,1093.56 1528.92,1093.58 1530.88,1093.59 1532.85,1093.6 1534.82,1093.62 \n",
       "  1536.78,1093.63 1538.75,1093.65 1540.72,1093.66 1542.68,1093.68 1544.65,1093.69 1546.61,1093.71 1548.58,1093.72 1550.55,1093.74 1552.51,1093.75 1554.48,1093.77 \n",
       "  1556.45,1093.79 1558.41,1093.8 1560.38,1093.82 1562.34,1093.83 1564.31,1093.85 1566.28,1093.87 1568.24,1093.88 1570.21,1093.9 1572.18,1093.92 1574.14,1093.93 \n",
       "  1576.11,1093.95 1578.07,1093.96 1580.04,1093.98 1582.01,1094 1583.97,1094.01 1585.94,1094.03 1587.91,1094.04 1589.87,1094.06 1591.84,1094.08 1593.8,1094.09 \n",
       "  1595.77,1094.11 1597.74,1094.12 1599.7,1094.14 1601.67,1094.15 1603.64,1094.17 1605.6,1094.18 1607.57,1094.19 1609.53,1094.21 1611.5,1094.22 1613.47,1094.24 \n",
       "  1615.43,1094.25 1617.4,1094.26 1619.37,1094.27 1621.33,1094.29 1623.3,1094.3 1625.26,1094.31 1627.23,1094.32 1629.2,1094.34 1631.16,1094.35 1633.13,1094.36 \n",
       "  1635.1,1094.37 1637.06,1094.38 1639.03,1094.39 1641,1094.4 1642.96,1094.41 1644.93,1094.42 1646.89,1094.43 1648.86,1094.43 1650.83,1094.44 1652.79,1094.45 \n",
       "  1654.76,1094.46 1656.73,1094.47 1658.69,1094.47 1660.66,1094.48 1662.62,1094.48 1664.59,1094.49 1666.56,1094.5 1668.52,1094.5 1670.49,1094.5 1672.46,1094.51 \n",
       "  1674.42,1094.51 1676.39,1094.52 1678.35,1094.52 1680.32,1094.52 1682.29,1094.52 1684.25,1094.53 1686.22,1094.53 1688.19,1094.53 1690.15,1094.53 1692.12,1094.53 \n",
       "  1694.08,1094.53 1696.05,1094.53 1698.02,1094.53 1699.98,1094.53 1701.95,1094.52 1703.92,1094.52 1705.88,1094.52 1707.85,1094.52 1709.81,1094.51 1711.78,1094.51 \n",
       "  1713.75,1094.5 1715.71,1094.5 1717.68,1094.49 1719.65,1094.49 1721.61,1094.48 1723.58,1094.48 1725.54,1094.47 1727.51,1094.46 1729.48,1094.46 1731.44,1094.45 \n",
       "  1733.41,1094.44 1735.38,1094.43 1737.34,1094.42 1739.31,1094.41 1741.27,1094.4 1743.24,1094.39 1745.21,1094.38 1747.17,1094.37 1749.14,1094.36 1751.11,1094.35 \n",
       "  1753.07,1094.34 1755.04,1094.32 1757,1094.31 1758.97,1094.3 1760.94,1094.28 1762.9,1094.27 1764.87,1094.26 1766.84,1094.24 1768.8,1094.23 1770.77,1094.21 \n",
       "  1772.73,1094.19 1774.7,1094.18 1776.67,1094.16 1778.63,1094.15 1780.6,1094.13 1782.57,1094.11 1784.53,1094.09 1786.5,1094.08 1788.46,1094.06 1790.43,1094.04 \n",
       "  1792.4,1094.02 1794.36,1094 1796.33,1093.98 1798.3,1093.96 1800.26,1093.94 1802.23,1093.92 1804.19,1093.9 1806.16,1093.88 1808.13,1093.86 1810.09,1093.83 \n",
       "  1812.06,1093.81 1814.03,1093.79 1815.99,1093.77 1817.96,1093.74 1819.92,1093.72 1821.89,1093.7 1823.86,1093.67 1825.82,1093.65 1827.79,1093.63 1829.76,1093.6 \n",
       "  1831.72,1093.58 1833.69,1093.55 1835.65,1093.53 1837.62,1093.5 1839.59,1093.48 1841.55,1093.45 1843.52,1093.43 1845.49,1093.4 1847.45,1093.37 1849.42,1093.35 \n",
       "  1851.38,1093.32 1853.35,1093.29 1855.32,1093.27 1857.28,1093.24 1859.25,1093.21 1861.22,1093.18 1863.18,1093.16 1865.15,1093.13 1867.11,1093.1 1869.08,1093.07 \n",
       "  1871.05,1093.04 1873.01,1093.02 1874.98,1092.99 1876.95,1092.96 1878.91,1092.93 1880.88,1092.9 1882.84,1092.87 1884.81,1092.84 1886.78,1092.81 1888.74,1092.78 \n",
       "  1890.71,1092.75 1892.68,1092.72 1894.64,1092.69 1896.61,1092.66 1898.57,1092.63 1900.54,1092.6 1902.51,1092.57 1904.47,1092.54 1906.44,1092.51 1908.41,1092.48 \n",
       "  1910.37,1092.45 1912.34,1092.42 1914.3,1092.39 1916.27,1092.36 1918.24,1092.33 1920.2,1092.3 1922.17,1092.26 1924.14,1092.23 1926.1,1092.2 1928.07,1092.17 \n",
       "  1930.03,1092.14 1932,1092.11 1933.97,1092.08 1935.93,1092.05 1937.9,1092.01 1939.87,1091.98 1941.83,1091.95 1943.8,1091.92 1945.76,1091.89 1947.73,1091.86 \n",
       "  1949.7,1091.83 1951.66,1091.79 1953.63,1091.76 1955.6,1091.73 1957.56,1091.7 1959.53,1091.67 1961.49,1091.64 1963.46,1091.6 1965.43,1091.57 1967.39,1091.54 \n",
       "  1969.36,1091.51 1971.33,1091.48 1973.29,1091.45 1975.26,1091.41 1977.22,1091.38 1979.19,1091.35 1981.16,1091.32 1983.12,1091.29 1985.09,1091.26 1987.06,1091.23 \n",
       "  1989.02,1091.19 1990.99,1091.16 1992.95,1091.13 1994.92,1091.1 1996.89,1091.07 1998.85,1091.04 2000.82,1091.01 2002.79,1090.98 2004.75,1090.94 2006.72,1090.91 \n",
       "  2008.68,1090.88 2010.65,1090.85 2012.62,1090.82 2014.58,1090.79 2016.55,1090.76 2018.52,1090.73 2020.48,1090.7 2022.45,1090.67 2024.41,1090.63 2026.38,1090.6 \n",
       "  2028.35,1090.57 2030.31,1090.54 2032.28,1090.51 2034.25,1090.48 2036.21,1090.45 2038.18,1090.42 2040.14,1090.39 2042.11,1090.36 2044.08,1090.33 2046.04,1090.3 \n",
       "  2048.01,1090.27 2049.98,1090.24 2051.94,1090.21 2053.91,1090.18 2055.87,1090.15 2057.84,1090.12 2059.81,1090.09 2061.77,1090.06 2063.74,1090.03 2065.71,1090 \n",
       "  2067.67,1089.97 2069.64,1089.94 2071.6,1089.91 2073.57,1089.88 2075.54,1089.85 2077.5,1089.82 2079.47,1089.8 2081.44,1089.77 2083.4,1089.74 2085.37,1089.71 \n",
       "  2087.33,1089.68 2089.3,1089.65 2091.27,1089.62 2093.23,1089.59 2095.2,1089.56 2097.17,1089.53 2099.13,1089.51 2101.1,1089.48 2103.06,1089.45 2105.03,1089.42 \n",
       "  2107,1089.39 2108.96,1089.36 2110.93,1089.33 2112.9,1089.3 2114.86,1089.28 2116.83,1089.25 2118.79,1089.22 2120.76,1089.19 2122.73,1089.16 2124.69,1089.13 \n",
       "  2126.66,1089.11 2128.63,1089.08 2130.59,1089.05 2132.56,1089.02 2134.52,1088.99 2136.49,1088.96 2138.46,1088.94 2140.42,1088.91 2142.39,1088.88 2144.36,1088.85 \n",
       "  2146.32,1088.82 2148.29,1088.79 2150.25,1088.77 2152.22,1088.74 2154.19,1088.71 2156.15,1088.68 2158.12,1088.65 2160.09,1088.62 2162.05,1088.6 2164.02,1088.57 \n",
       "  2165.98,1088.54 2167.95,1088.51 2169.92,1088.48 2171.88,1088.45 2173.85,1088.43 2175.82,1088.4 2177.78,1088.37 2179.75,1088.34 2181.71,1088.31 2183.68,1088.28 \n",
       "  2185.65,1088.25 2187.61,1088.23 2189.58,1088.2 2191.55,1088.17 2193.51,1088.14 2195.48,1088.11 2197.44,1088.08 2199.41,1088.05 2201.38,1088.02 2203.34,1087.99 \n",
       "  2205.31,1087.96 2207.28,1087.93 2209.24,1087.91 2211.21,1087.88 2213.17,1087.85 2215.14,1087.82 2217.11,1087.79 2219.07,1087.76 2221.04,1087.73 2223.01,1087.7 \n",
       "  2224.97,1087.67 2226.94,1087.64 2228.9,1087.6 2230.87,1087.57 2232.84,1087.54 2234.8,1087.51 2236.77,1087.48 2238.74,1087.45 2240.7,1087.42 2242.67,1087.39 \n",
       "  2244.63,1087.36 2246.6,1087.32 2248.57,1087.29 2250.53,1087.26 2252.5,1087.23 2254.47,1087.19 2256.43,1087.16 2258.4,1087.13 2260.36,1087.1 2262.33,1087.06 \n",
       "  \n",
       "  \"/>\n",
       "<polygon clip-path=\"url(#clip7801)\" points=\"\n",
       "1886.18,451.424 2249.26,451.424 2249.26,209.504 1886.18,209.504 \n",
       "  \" fill=\"#ffffff\" fill-rule=\"evenodd\" fill-opacity=\"1\"/>\n",
       "<polyline clip-path=\"url(#clip7801)\" style=\"stroke:#000000; stroke-width:4; stroke-opacity:1; fill:none\" points=\"\n",
       "  1886.18,451.424 2249.26,451.424 2249.26,209.504 1886.18,209.504 1886.18,451.424 \n",
       "  \"/>\n",
       "<polyline clip-path=\"url(#clip7801)\" style=\"stroke:#009af9; stroke-width:8; stroke-opacity:1; fill:none\" points=\"\n",
       "  1910.18,269.984 2054.18,269.984 \n",
       "  \"/>\n",
       "<g clip-path=\"url(#clip7801)\">\n",
       "<text style=\"fill:#000000; fill-opacity:1; font-family:Arial,Helvetica Neue,Helvetica,sans-serif; font-size:48px; text-anchor:start;\" transform=\"rotate(0, 2078.18, 287.484)\" x=\"2078.18\" y=\"287.484\">Tau 1</text>\n",
       "</g>\n",
       "<polyline clip-path=\"url(#clip7801)\" style=\"stroke:#e26f46; stroke-width:8; stroke-opacity:1; fill:none\" points=\"\n",
       "  1910.18,330.464 2054.18,330.464 \n",
       "  \"/>\n",
       "<g clip-path=\"url(#clip7801)\">\n",
       "<text style=\"fill:#000000; fill-opacity:1; font-family:Arial,Helvetica Neue,Helvetica,sans-serif; font-size:48px; text-anchor:start;\" transform=\"rotate(0, 2078.18, 347.964)\" x=\"2078.18\" y=\"347.964\">Tau 2</text>\n",
       "</g>\n",
       "<polyline clip-path=\"url(#clip7801)\" style=\"stroke:#3da44d; stroke-width:8; stroke-opacity:1; fill:none\" points=\"\n",
       "  1910.18,390.944 2054.18,390.944 \n",
       "  \"/>\n",
       "<g clip-path=\"url(#clip7801)\">\n",
       "<text style=\"fill:#000000; fill-opacity:1; font-family:Arial,Helvetica Neue,Helvetica,sans-serif; font-size:48px; text-anchor:start;\" transform=\"rotate(0, 2078.18, 408.444)\" x=\"2078.18\" y=\"408.444\">Tau 3</text>\n",
       "</g>\n",
       "</svg>\n"
      ]
     },
     "execution_count": 48,
     "metadata": {},
     "output_type": "execute_result"
    }
   ],
   "source": [
    "timestamp = range(1, Tf, length=N)\n",
    "\n",
    "plot(timestamp, taumat[:, 1], linewidth=2, label=\"Tau 1\")\n",
    "plot!(timestamp, taumat[:, 2], linewidth=2, label=\"Tau 2\")\n",
    "plot!(timestamp, taumat[:, 3], linewidth=2, label=\"Tau 3\")\n",
    "\n",
    "xlabel!(\"Time\")\n",
    "ylabel!(\"Torque\")\n",
    "title!(\"Plot of Torque Trajectories\")"
   ]
  },
  {
   "cell_type": "markdown",
   "metadata": {},
   "source": [
    "### Forward Dynamics Trajectory"
   ]
  },
  {
   "cell_type": "code",
   "execution_count": 49,
   "metadata": {},
   "outputs": [],
   "source": [
    "dt = 0.1\n",
    "\n",
    "intRes = 8\n",
    "\n",
    "thetalist = [0.1, 0.1, 0.1]\n",
    "\n",
    "dthetalist = [0.1, 0.2, 0.3]\n",
    "\n",
    "taumat = [[3.63, -6.58, -5.57], [3.74, -5.55,  -5.5],\n",
    "          [4.31, -0.68, -5.19], [5.18,  5.63, -4.31],\n",
    "          [5.85,  8.17, -2.59], [5.78,  2.79,  -1.7],\n",
    "          [4.99,  -5.3, -1.19], [4.08, -9.41,  0.07],\n",
    "          [3.56, -10.1,  0.97], [3.49, -9.41,  1.23]]\n",
    "\n",
    "taumat = cat(taumat..., dims=2)';"
   ]
  },
  {
   "cell_type": "code",
   "execution_count": 50,
   "metadata": {},
   "outputs": [],
   "source": [
    "thetamat, dthetamat = ForwardDynamicsTrajectory(thetalist, dthetalist, taumat, g,\n",
    "                                                Ftipmat, Mlist, Glist, Slist, dt, intRes);"
   ]
  },
  {
   "cell_type": "markdown",
   "metadata": {},
   "source": [
    "Plot the joint angle/velocities"
   ]
  },
  {
   "cell_type": "code",
   "execution_count": 51,
   "metadata": {},
   "outputs": [
    {
     "data": {
      "image/svg+xml": [
       "<?xml version=\"1.0\" encoding=\"utf-8\"?>\n",
       "<svg xmlns=\"http://www.w3.org/2000/svg\" xmlns:xlink=\"http://www.w3.org/1999/xlink\" width=\"600\" height=\"400\" viewBox=\"0 0 2400 1600\">\n",
       "<defs>\n",
       "  <clipPath id=\"clip8000\">\n",
       "    <rect x=\"0\" y=\"0\" width=\"2000\" height=\"2000\"/>\n",
       "  </clipPath>\n",
       "</defs>\n",
       "<defs>\n",
       "  <clipPath id=\"clip8001\">\n",
       "    <rect x=\"0\" y=\"0\" width=\"2400\" height=\"1600\"/>\n",
       "  </clipPath>\n",
       "</defs>\n",
       "<polygon clip-path=\"url(#clip8001)\" points=\"\n",
       "0,1600 2400,1600 2400,0 0,0 \n",
       "  \" fill=\"#ffffff\" fill-rule=\"evenodd\" fill-opacity=\"1\"/>\n",
       "<defs>\n",
       "  <clipPath id=\"clip8002\">\n",
       "    <rect x=\"480\" y=\"0\" width=\"1681\" height=\"1600\"/>\n",
       "  </clipPath>\n",
       "</defs>\n",
       "<polygon clip-path=\"url(#clip8001)\" points=\"\n",
       "239.115,1440.48 2321.26,1440.48 2321.26,125.984 239.115,125.984 \n",
       "  \" fill=\"#ffffff\" fill-rule=\"evenodd\" fill-opacity=\"1\"/>\n",
       "<defs>\n",
       "  <clipPath id=\"clip8003\">\n",
       "    <rect x=\"239\" y=\"125\" width=\"2083\" height=\"1315\"/>\n",
       "  </clipPath>\n",
       "</defs>\n",
       "<polyline clip-path=\"url(#clip8003)\" style=\"stroke:#000000; stroke-width:2; stroke-opacity:0.1; fill:none\" points=\"\n",
       "  298.044,1440.48 298.044,125.984 \n",
       "  \"/>\n",
       "<polyline clip-path=\"url(#clip8003)\" style=\"stroke:#000000; stroke-width:2; stroke-opacity:0.1; fill:none\" points=\"\n",
       "  789.116,1440.48 789.116,125.984 \n",
       "  \"/>\n",
       "<polyline clip-path=\"url(#clip8003)\" style=\"stroke:#000000; stroke-width:2; stroke-opacity:0.1; fill:none\" points=\"\n",
       "  1280.19,1440.48 1280.19,125.984 \n",
       "  \"/>\n",
       "<polyline clip-path=\"url(#clip8003)\" style=\"stroke:#000000; stroke-width:2; stroke-opacity:0.1; fill:none\" points=\"\n",
       "  1771.26,1440.48 1771.26,125.984 \n",
       "  \"/>\n",
       "<polyline clip-path=\"url(#clip8003)\" style=\"stroke:#000000; stroke-width:2; stroke-opacity:0.1; fill:none\" points=\"\n",
       "  2262.33,1440.48 2262.33,125.984 \n",
       "  \"/>\n",
       "<polyline clip-path=\"url(#clip8003)\" style=\"stroke:#000000; stroke-width:2; stroke-opacity:0.1; fill:none\" points=\"\n",
       "  239.115,1297.34 2321.26,1297.34 \n",
       "  \"/>\n",
       "<polyline clip-path=\"url(#clip8003)\" style=\"stroke:#000000; stroke-width:2; stroke-opacity:0.1; fill:none\" points=\"\n",
       "  239.115,985.299 2321.26,985.299 \n",
       "  \"/>\n",
       "<polyline clip-path=\"url(#clip8003)\" style=\"stroke:#000000; stroke-width:2; stroke-opacity:0.1; fill:none\" points=\"\n",
       "  239.115,673.257 2321.26,673.257 \n",
       "  \"/>\n",
       "<polyline clip-path=\"url(#clip8003)\" style=\"stroke:#000000; stroke-width:2; stroke-opacity:0.1; fill:none\" points=\"\n",
       "  239.115,361.214 2321.26,361.214 \n",
       "  \"/>\n",
       "<polyline clip-path=\"url(#clip8001)\" style=\"stroke:#000000; stroke-width:4; stroke-opacity:1; fill:none\" points=\"\n",
       "  239.115,1440.48 2321.26,1440.48 \n",
       "  \"/>\n",
       "<polyline clip-path=\"url(#clip8001)\" style=\"stroke:#000000; stroke-width:4; stroke-opacity:1; fill:none\" points=\"\n",
       "  239.115,1440.48 239.115,125.984 \n",
       "  \"/>\n",
       "<polyline clip-path=\"url(#clip8001)\" style=\"stroke:#000000; stroke-width:4; stroke-opacity:1; fill:none\" points=\"\n",
       "  298.044,1440.48 298.044,1420.77 \n",
       "  \"/>\n",
       "<polyline clip-path=\"url(#clip8001)\" style=\"stroke:#000000; stroke-width:4; stroke-opacity:1; fill:none\" points=\"\n",
       "  789.116,1440.48 789.116,1420.77 \n",
       "  \"/>\n",
       "<polyline clip-path=\"url(#clip8001)\" style=\"stroke:#000000; stroke-width:4; stroke-opacity:1; fill:none\" points=\"\n",
       "  1280.19,1440.48 1280.19,1420.77 \n",
       "  \"/>\n",
       "<polyline clip-path=\"url(#clip8001)\" style=\"stroke:#000000; stroke-width:4; stroke-opacity:1; fill:none\" points=\"\n",
       "  1771.26,1440.48 1771.26,1420.77 \n",
       "  \"/>\n",
       "<polyline clip-path=\"url(#clip8001)\" style=\"stroke:#000000; stroke-width:4; stroke-opacity:1; fill:none\" points=\"\n",
       "  2262.33,1440.48 2262.33,1420.77 \n",
       "  \"/>\n",
       "<polyline clip-path=\"url(#clip8001)\" style=\"stroke:#000000; stroke-width:4; stroke-opacity:1; fill:none\" points=\"\n",
       "  239.115,1297.34 270.347,1297.34 \n",
       "  \"/>\n",
       "<polyline clip-path=\"url(#clip8001)\" style=\"stroke:#000000; stroke-width:4; stroke-opacity:1; fill:none\" points=\"\n",
       "  239.115,985.299 270.347,985.299 \n",
       "  \"/>\n",
       "<polyline clip-path=\"url(#clip8001)\" style=\"stroke:#000000; stroke-width:4; stroke-opacity:1; fill:none\" points=\"\n",
       "  239.115,673.257 270.347,673.257 \n",
       "  \"/>\n",
       "<polyline clip-path=\"url(#clip8001)\" style=\"stroke:#000000; stroke-width:4; stroke-opacity:1; fill:none\" points=\"\n",
       "  239.115,361.214 270.347,361.214 \n",
       "  \"/>\n",
       "<g clip-path=\"url(#clip8001)\">\n",
       "<text style=\"fill:#000000; fill-opacity:1; font-family:Arial,Helvetica Neue,Helvetica,sans-serif; font-size:48px; text-anchor:middle;\" transform=\"rotate(0, 298.044, 1494.48)\" x=\"298.044\" y=\"1494.48\">0.00</text>\n",
       "</g>\n",
       "<g clip-path=\"url(#clip8001)\">\n",
       "<text style=\"fill:#000000; fill-opacity:1; font-family:Arial,Helvetica Neue,Helvetica,sans-serif; font-size:48px; text-anchor:middle;\" transform=\"rotate(0, 789.116, 1494.48)\" x=\"789.116\" y=\"1494.48\">0.25</text>\n",
       "</g>\n",
       "<g clip-path=\"url(#clip8001)\">\n",
       "<text style=\"fill:#000000; fill-opacity:1; font-family:Arial,Helvetica Neue,Helvetica,sans-serif; font-size:48px; text-anchor:middle;\" transform=\"rotate(0, 1280.19, 1494.48)\" x=\"1280.19\" y=\"1494.48\">0.50</text>\n",
       "</g>\n",
       "<g clip-path=\"url(#clip8001)\">\n",
       "<text style=\"fill:#000000; fill-opacity:1; font-family:Arial,Helvetica Neue,Helvetica,sans-serif; font-size:48px; text-anchor:middle;\" transform=\"rotate(0, 1771.26, 1494.48)\" x=\"1771.26\" y=\"1494.48\">0.75</text>\n",
       "</g>\n",
       "<g clip-path=\"url(#clip8001)\">\n",
       "<text style=\"fill:#000000; fill-opacity:1; font-family:Arial,Helvetica Neue,Helvetica,sans-serif; font-size:48px; text-anchor:middle;\" transform=\"rotate(0, 2262.33, 1494.48)\" x=\"2262.33\" y=\"1494.48\">1.00</text>\n",
       "</g>\n",
       "<g clip-path=\"url(#clip8001)\">\n",
       "<text style=\"fill:#000000; fill-opacity:1; font-family:Arial,Helvetica Neue,Helvetica,sans-serif; font-size:48px; text-anchor:end;\" transform=\"rotate(0, 215.115, 1314.84)\" x=\"215.115\" y=\"1314.84\">-10</text>\n",
       "</g>\n",
       "<g clip-path=\"url(#clip8001)\">\n",
       "<text style=\"fill:#000000; fill-opacity:1; font-family:Arial,Helvetica Neue,Helvetica,sans-serif; font-size:48px; text-anchor:end;\" transform=\"rotate(0, 215.115, 1002.8)\" x=\"215.115\" y=\"1002.8\">-5</text>\n",
       "</g>\n",
       "<g clip-path=\"url(#clip8001)\">\n",
       "<text style=\"fill:#000000; fill-opacity:1; font-family:Arial,Helvetica Neue,Helvetica,sans-serif; font-size:48px; text-anchor:end;\" transform=\"rotate(0, 215.115, 690.757)\" x=\"215.115\" y=\"690.757\">0</text>\n",
       "</g>\n",
       "<g clip-path=\"url(#clip8001)\">\n",
       "<text style=\"fill:#000000; fill-opacity:1; font-family:Arial,Helvetica Neue,Helvetica,sans-serif; font-size:48px; text-anchor:end;\" transform=\"rotate(0, 215.115, 378.714)\" x=\"215.115\" y=\"378.714\">5</text>\n",
       "</g>\n",
       "<g clip-path=\"url(#clip8001)\">\n",
       "<text style=\"fill:#000000; fill-opacity:1; font-family:Arial,Helvetica Neue,Helvetica,sans-serif; font-size:84px; text-anchor:middle;\" transform=\"rotate(0, 1280.19, 73.2)\" x=\"1280.19\" y=\"73.2\">Plot of Joint Angles and Joint Velocities</text>\n",
       "</g>\n",
       "<g clip-path=\"url(#clip8001)\">\n",
       "<text style=\"fill:#000000; fill-opacity:1; font-family:Arial,Helvetica Neue,Helvetica,sans-serif; font-size:66px; text-anchor:middle;\" transform=\"rotate(0, 1280.19, 1590.4)\" x=\"1280.19\" y=\"1590.4\">Time</text>\n",
       "</g>\n",
       "<g clip-path=\"url(#clip8001)\">\n",
       "<text style=\"fill:#000000; fill-opacity:1; font-family:Arial,Helvetica Neue,Helvetica,sans-serif; font-size:66px; text-anchor:middle;\" transform=\"rotate(-90, 57.6, 783.233)\" x=\"57.6\" y=\"783.233\">Joint Angles/Velocities</text>\n",
       "</g>\n",
       "<polyline clip-path=\"url(#clip8003)\" style=\"stroke:#009af9; stroke-width:8; stroke-opacity:1; fill:none\" points=\"\n",
       "  298.044,667.016 516.298,666.615 734.552,666.892 952.806,668.258 1171.06,671.496 1389.31,677.703 1607.57,685.824 1825.82,693.465 2044.08,699.171 2262.33,702.202 \n",
       "  \n",
       "  \"/>\n",
       "<polyline clip-path=\"url(#clip8003)\" style=\"stroke:#e26f46; stroke-width:8; stroke-opacity:1; fill:none\" points=\"\n",
       "  298.044,667.016 516.298,656.868 734.552,628.584 952.806,589.672 1171.06,540.977 1389.31,493.691 1607.57,461.201 1825.82,440.262 2044.08,432.433 2262.33,446.602 \n",
       "  \n",
       "  \"/>\n",
       "<polyline clip-path=\"url(#clip8003)\" style=\"stroke:#3da44d; stroke-width:8; stroke-opacity:1; fill:none\" points=\"\n",
       "  298.044,667.016 516.298,687.402 734.552,749.721 952.806,815.595 1171.06,865.191 1389.31,912.462 1607.57,975.203 1825.82,1046.89 2044.08,1110.82 2262.33,1149.55 \n",
       "  \n",
       "  \"/>\n",
       "<polyline clip-path=\"url(#clip8003)\" style=\"stroke:#c271d2; stroke-width:8; stroke-opacity:1; fill:none\" points=\"\n",
       "  298.044,667.016 516.298,672.5 734.552,681.403 952.806,695.425 1171.06,721.535 1389.31,750.333 1607.57,755.278 1825.82,739.906 2044.08,717.108 2262.33,682.341 \n",
       "  \n",
       "  \"/>\n",
       "<polyline clip-path=\"url(#clip8003)\" style=\"stroke:#ac8d18; stroke-width:8; stroke-opacity:1; fill:none\" points=\"\n",
       "  298.044,660.775 516.298,459.211 734.552,326.267 952.806,229.048 1171.06,163.187 1389.31,276.396 1607.57,418.826 1825.82,517.717 2044.08,708.159 2262.33,958.557 \n",
       "  \n",
       "  \"/>\n",
       "<polyline clip-path=\"url(#clip8003)\" style=\"stroke:#00a9ad; stroke-width:8; stroke-opacity:1; fill:none\" points=\"\n",
       "  298.044,654.534 516.298,1156.79 734.552,1373.93 952.806,1246.28 1171.06,1113.7 1389.31,1234.8 1607.57,1371.28 1825.82,1403.28 2044.08,1182.55 2262.33,887.402 \n",
       "  \n",
       "  \"/>\n",
       "<polygon clip-path=\"url(#clip8001)\" points=\"\n",
       "1824.67,632.864 2249.26,632.864 2249.26,209.504 1824.67,209.504 \n",
       "  \" fill=\"#ffffff\" fill-rule=\"evenodd\" fill-opacity=\"1\"/>\n",
       "<polyline clip-path=\"url(#clip8001)\" style=\"stroke:#000000; stroke-width:4; stroke-opacity:1; fill:none\" points=\"\n",
       "  1824.67,632.864 2249.26,632.864 2249.26,209.504 1824.67,209.504 1824.67,632.864 \n",
       "  \"/>\n",
       "<polyline clip-path=\"url(#clip8001)\" style=\"stroke:#009af9; stroke-width:8; stroke-opacity:1; fill:none\" points=\"\n",
       "  1848.67,269.984 1992.67,269.984 \n",
       "  \"/>\n",
       "<g clip-path=\"url(#clip8001)\">\n",
       "<text style=\"fill:#000000; fill-opacity:1; font-family:Arial,Helvetica Neue,Helvetica,sans-serif; font-size:48px; text-anchor:start;\" transform=\"rotate(0, 2016.67, 287.484)\" x=\"2016.67\" y=\"287.484\">Theta1</text>\n",
       "</g>\n",
       "<polyline clip-path=\"url(#clip8001)\" style=\"stroke:#e26f46; stroke-width:8; stroke-opacity:1; fill:none\" points=\"\n",
       "  1848.67,330.464 1992.67,330.464 \n",
       "  \"/>\n",
       "<g clip-path=\"url(#clip8001)\">\n",
       "<text style=\"fill:#000000; fill-opacity:1; font-family:Arial,Helvetica Neue,Helvetica,sans-serif; font-size:48px; text-anchor:start;\" transform=\"rotate(0, 2016.67, 347.964)\" x=\"2016.67\" y=\"347.964\">Theta2</text>\n",
       "</g>\n",
       "<polyline clip-path=\"url(#clip8001)\" style=\"stroke:#3da44d; stroke-width:8; stroke-opacity:1; fill:none\" points=\"\n",
       "  1848.67,390.944 1992.67,390.944 \n",
       "  \"/>\n",
       "<g clip-path=\"url(#clip8001)\">\n",
       "<text style=\"fill:#000000; fill-opacity:1; font-family:Arial,Helvetica Neue,Helvetica,sans-serif; font-size:48px; text-anchor:start;\" transform=\"rotate(0, 2016.67, 408.444)\" x=\"2016.67\" y=\"408.444\">Theta3</text>\n",
       "</g>\n",
       "<polyline clip-path=\"url(#clip8001)\" style=\"stroke:#c271d2; stroke-width:8; stroke-opacity:1; fill:none\" points=\"\n",
       "  1848.67,451.424 1992.67,451.424 \n",
       "  \"/>\n",
       "<g clip-path=\"url(#clip8001)\">\n",
       "<text style=\"fill:#000000; fill-opacity:1; font-family:Arial,Helvetica Neue,Helvetica,sans-serif; font-size:48px; text-anchor:start;\" transform=\"rotate(0, 2016.67, 468.924)\" x=\"2016.67\" y=\"468.924\">DTheta1</text>\n",
       "</g>\n",
       "<polyline clip-path=\"url(#clip8001)\" style=\"stroke:#ac8d18; stroke-width:8; stroke-opacity:1; fill:none\" points=\"\n",
       "  1848.67,511.904 1992.67,511.904 \n",
       "  \"/>\n",
       "<g clip-path=\"url(#clip8001)\">\n",
       "<text style=\"fill:#000000; fill-opacity:1; font-family:Arial,Helvetica Neue,Helvetica,sans-serif; font-size:48px; text-anchor:start;\" transform=\"rotate(0, 2016.67, 529.404)\" x=\"2016.67\" y=\"529.404\">DTheta2</text>\n",
       "</g>\n",
       "<polyline clip-path=\"url(#clip8001)\" style=\"stroke:#00a9ad; stroke-width:8; stroke-opacity:1; fill:none\" points=\"\n",
       "  1848.67,572.384 1992.67,572.384 \n",
       "  \"/>\n",
       "<g clip-path=\"url(#clip8001)\">\n",
       "<text style=\"fill:#000000; fill-opacity:1; font-family:Arial,Helvetica Neue,Helvetica,sans-serif; font-size:48px; text-anchor:start;\" transform=\"rotate(0, 2016.67, 589.884)\" x=\"2016.67\" y=\"589.884\">DTheta3</text>\n",
       "</g>\n",
       "</svg>\n"
      ]
     },
     "execution_count": 51,
     "metadata": {},
     "output_type": "execute_result"
    }
   ],
   "source": [
    "theta1 = thetamat[:, 1]\n",
    "theta2 = thetamat[:, 2]\n",
    "theta3 = thetamat[:, 3]\n",
    "\n",
    "dtheta1 = dthetamat[:, 1]\n",
    "dtheta2 = dthetamat[:, 2]\n",
    "dtheta3 = dthetamat[:, 3]\n",
    "\n",
    "N = size(taumat, 1)\n",
    "Tf = size(taumat, 1) * dt\n",
    "\n",
    "timestamp = range(0, Tf, length=N)\n",
    "\n",
    "plot(timestamp, theta1, linewidth=2, label=\"Theta1\")\n",
    "plot!(timestamp, theta2, linewidth=2, label=\"Theta2\")\n",
    "plot!(timestamp, theta3, linewidth=2, label=\"Theta3\")\n",
    "\n",
    "plot!(timestamp, dtheta1, linewidth=2, label=\"DTheta1\")\n",
    "plot!(timestamp, dtheta2, linewidth=2, label=\"DTheta2\")\n",
    "plot!(timestamp, dtheta3, linewidth=2, label=\"DTheta3\")\n",
    "\n",
    "xlabel!(\"Time\")\n",
    "ylabel!(\"Joint Angles/Velocities\")\n",
    "title!(\"Plot of Joint Angles and Joint Velocities\")"
   ]
  },
  {
   "cell_type": "markdown",
   "metadata": {},
   "source": [
    "## CHAPTER 9: TRAJECTORY GENERATION"
   ]
  },
  {
   "cell_type": "code",
   "execution_count": 52,
   "metadata": {},
   "outputs": [
    {
     "data": {
      "text/plain": [
       "0.21600000000000003"
      ]
     },
     "execution_count": 52,
     "metadata": {},
     "output_type": "execute_result"
    }
   ],
   "source": [
    "CubicTimeScaling(2, 0.6)"
   ]
  },
  {
   "cell_type": "code",
   "execution_count": 53,
   "metadata": {},
   "outputs": [
    {
     "data": {
      "text/plain": [
       "0.16308"
      ]
     },
     "execution_count": 53,
     "metadata": {},
     "output_type": "execute_result"
    }
   ],
   "source": [
    "QuinticTimeScaling(2, 0.6)"
   ]
  },
  {
   "cell_type": "code",
   "execution_count": 54,
   "metadata": {
    "scrolled": true
   },
   "outputs": [
    {
     "data": {
      "text/plain": [
       "6×8 LinearAlgebra.Adjoint{Float64,Array{Float64,2}}:\n",
       " 1.0     0.0    0.0     1.0     1.0    0.2     0.0     1.0\n",
       " 1.0208  0.052  0.0624  1.0104  1.104  0.3872  0.0936  1.0\n",
       " 1.0704  0.176  0.2112  1.0352  1.352  0.8336  0.3168  1.0\n",
       " 1.1296  0.324  0.3888  1.0648  1.648  1.3664  0.5832  1.0\n",
       " 1.1792  0.448  0.5376  1.0896  1.896  1.8128  0.8064  1.0\n",
       " 1.2     0.5    0.6     1.1     2.0    2.0     0.9     1.0"
      ]
     },
     "execution_count": 54,
     "metadata": {},
     "output_type": "execute_result"
    }
   ],
   "source": [
    "thetastart = [1, 0, 0, 1, 1, 0.2, 0,1]\n",
    "thetaend = [1.2, 0.5, 0.6, 1.1, 2, 2, 0.9, 1]\n",
    "\n",
    "Tf = 4\n",
    "N = 6\n",
    "method = 3\n",
    "\n",
    "JointTrajectory(thetastart, thetaend, Tf, N, method)"
   ]
  },
  {
   "cell_type": "markdown",
   "metadata": {},
   "source": [
    "## CHAPTER 11: ROBOT CONTROL"
   ]
  },
  {
   "cell_type": "code",
   "execution_count": 55,
   "metadata": {},
   "outputs": [
    {
     "data": {
      "text/plain": [
       "3-element Array{Float64,1}:\n",
       " 133.0052524649953   \n",
       " -29.942233243760633 \n",
       "  -3.0327685616172397"
      ]
     },
     "execution_count": 55,
     "metadata": {},
     "output_type": "execute_result"
    }
   ],
   "source": [
    "eint = [0.2, 0.2, 0.2]\n",
    "\n",
    "thetalistd = [1.0, 1.0, 1.0]\n",
    "dthetalistd = [2, 1.2, 2]\n",
    "ddthetalistd = [0.1, 0.1, 0.1]\n",
    "\n",
    "Kp = 1.3\n",
    "Ki = 1.2\n",
    "Kd = 1.1\n",
    "\n",
    "ComputedTorque(thetalist, dthetalist, eint, g, Mlist, Glist, Slist,\n",
    "               thetalistd, dthetalistd, ddthetalistd, Kp, Ki, Kd)"
   ]
  },
  {
   "cell_type": "markdown",
   "metadata": {},
   "source": [
    "### Simulate Control"
   ]
  },
  {
   "cell_type": "code",
   "execution_count": 56,
   "metadata": {},
   "outputs": [],
   "source": [
    "dt = 0.01\n",
    "\n",
    "# Create a trajectory to follow\n",
    "\n",
    "thetaend = [π / 2, π, 1.5 * π]\n",
    "\n",
    "Tf = 1\n",
    "N = round(Int, Tf / dt)\n",
    "method = 5\n",
    "\n",
    "traj = JointTrajectory(thetalist, thetaend, Tf, N, method)\n",
    "\n",
    "thetamatd = copy(traj)\n",
    "dthetamatd = zeros(N, 3)\n",
    "ddthetamatd = zeros(N, 3)\n",
    "\n",
    "dt = Tf / (N - 1)\n",
    "\n",
    "for i = 1:size(traj, 1)-1\n",
    "    dthetamatd[i + 1, :] = (thetamatd[i + 1, :] - thetamatd[i, :]) / dt\n",
    "    ddthetamatd[i + 1, :] = (dthetamatd[i + 1, :] - dthetamatd[i, :]) / dt\n",
    "end\n",
    "\n",
    "# Possibly wrong robot description (Example with 3 links)\n",
    "\n",
    "gtilde = [0.8, 0.2, -8.8]\n",
    "\n",
    "Mhat01 = [1 0 0   0 ;\n",
    "          0 1 0   0 ;\n",
    "          0 0 1 0.1 ;\n",
    "          0 0 0   1 ]\n",
    "\n",
    "Mhat12 = [ 0 0 1 0.3 ;\n",
    "           0 1 0 0.2 ;\n",
    "          -1 0 0   0 ;\n",
    "           0 0 0   1 ]\n",
    "\n",
    "Mhat23 = [1 0 0    0 ;\n",
    "          0 1 0 -0.2 ;\n",
    "          0 0 1  0.4 ;\n",
    "          0 0 0    1 ]\n",
    "\n",
    "Mhat34 = [1 0 0   0 ;\n",
    "          0 1 0   0 ;\n",
    "          0 0 1 0.2 ;\n",
    "          0 0 0   1 ]\n",
    "\n",
    "Mtildelist = [Mhat01, Mhat12, Mhat23, Mhat34]\n",
    "\n",
    "Ghat1 = linalg.Diagonal([0.1, 0.1, 0.1, 4, 4, 4])\n",
    "Ghat2 = linalg.Diagonal([0.3, 0.3, 0.1, 9, 9, 9])\n",
    "Ghat3 = linalg.Diagonal([0.1, 0.1, 0.1, 3, 3, 3])\n",
    "\n",
    "Gtildelist = [Ghat1, Ghat2, Ghat3]\n",
    "\n",
    "Ftipmat = ones(size(traj, 1), 6)\n",
    "\n",
    "Kp = 20\n",
    "Ki = 10\n",
    "Kd = 18\n",
    "\n",
    "intRes = 8;"
   ]
  },
  {
   "cell_type": "code",
   "execution_count": 57,
   "metadata": {},
   "outputs": [],
   "source": [
    "taumat, thetamat = SimulateControl(thetalist, dthetalist, g, Ftipmat, Mlist, Glist,\n",
    "                                   Slist, thetamatd, dthetamatd, ddthetamatd, gtilde,\n",
    "                                   Mtildelist, Gtildelist, Kp, Ki, Kd, dt, intRes);"
   ]
  },
  {
   "cell_type": "code",
   "execution_count": 58,
   "metadata": {
    "scrolled": false
   },
   "outputs": [
    {
     "data": {
      "image/svg+xml": [
       "<?xml version=\"1.0\" encoding=\"utf-8\"?>\n",
       "<svg xmlns=\"http://www.w3.org/2000/svg\" xmlns:xlink=\"http://www.w3.org/1999/xlink\" width=\"600\" height=\"400\" viewBox=\"0 0 2400 1600\">\n",
       "<defs>\n",
       "  <clipPath id=\"clip8200\">\n",
       "    <rect x=\"0\" y=\"0\" width=\"2000\" height=\"2000\"/>\n",
       "  </clipPath>\n",
       "</defs>\n",
       "<defs>\n",
       "  <clipPath id=\"clip8201\">\n",
       "    <rect x=\"0\" y=\"0\" width=\"2400\" height=\"1600\"/>\n",
       "  </clipPath>\n",
       "</defs>\n",
       "<polygon clip-path=\"url(#clip8201)\" points=\"\n",
       "0,1600 2400,1600 2400,0 0,0 \n",
       "  \" fill=\"#ffffff\" fill-rule=\"evenodd\" fill-opacity=\"1\"/>\n",
       "<defs>\n",
       "  <clipPath id=\"clip8202\">\n",
       "    <rect x=\"480\" y=\"0\" width=\"1681\" height=\"1600\"/>\n",
       "  </clipPath>\n",
       "</defs>\n",
       "<polygon clip-path=\"url(#clip8201)\" points=\"\n",
       "184.243,1440.48 2321.26,1440.48 2321.26,125.984 184.243,125.984 \n",
       "  \" fill=\"#ffffff\" fill-rule=\"evenodd\" fill-opacity=\"1\"/>\n",
       "<defs>\n",
       "  <clipPath id=\"clip8203\">\n",
       "    <rect x=\"184\" y=\"125\" width=\"2138\" height=\"1315\"/>\n",
       "  </clipPath>\n",
       "</defs>\n",
       "<polyline clip-path=\"url(#clip8203)\" style=\"stroke:#000000; stroke-width:2; stroke-opacity:0.1; fill:none\" points=\"\n",
       "  244.724,1440.48 244.724,125.984 \n",
       "  \"/>\n",
       "<polyline clip-path=\"url(#clip8203)\" style=\"stroke:#000000; stroke-width:2; stroke-opacity:0.1; fill:none\" points=\"\n",
       "  743.698,1440.48 743.698,125.984 \n",
       "  \"/>\n",
       "<polyline clip-path=\"url(#clip8203)\" style=\"stroke:#000000; stroke-width:2; stroke-opacity:0.1; fill:none\" points=\"\n",
       "  1242.67,1440.48 1242.67,125.984 \n",
       "  \"/>\n",
       "<polyline clip-path=\"url(#clip8203)\" style=\"stroke:#000000; stroke-width:2; stroke-opacity:0.1; fill:none\" points=\"\n",
       "  1741.64,1440.48 1741.64,125.984 \n",
       "  \"/>\n",
       "<polyline clip-path=\"url(#clip8203)\" style=\"stroke:#000000; stroke-width:2; stroke-opacity:0.1; fill:none\" points=\"\n",
       "  2240.62,1440.48 2240.62,125.984 \n",
       "  \"/>\n",
       "<polyline clip-path=\"url(#clip8203)\" style=\"stroke:#000000; stroke-width:2; stroke-opacity:0.1; fill:none\" points=\"\n",
       "  184.243,1428.53 2321.26,1428.53 \n",
       "  \"/>\n",
       "<polyline clip-path=\"url(#clip8203)\" style=\"stroke:#000000; stroke-width:2; stroke-opacity:0.1; fill:none\" points=\"\n",
       "  184.243,1160.01 2321.26,1160.01 \n",
       "  \"/>\n",
       "<polyline clip-path=\"url(#clip8203)\" style=\"stroke:#000000; stroke-width:2; stroke-opacity:0.1; fill:none\" points=\"\n",
       "  184.243,891.501 2321.26,891.501 \n",
       "  \"/>\n",
       "<polyline clip-path=\"url(#clip8203)\" style=\"stroke:#000000; stroke-width:2; stroke-opacity:0.1; fill:none\" points=\"\n",
       "  184.243,622.987 2321.26,622.987 \n",
       "  \"/>\n",
       "<polyline clip-path=\"url(#clip8203)\" style=\"stroke:#000000; stroke-width:2; stroke-opacity:0.1; fill:none\" points=\"\n",
       "  184.243,354.473 2321.26,354.473 \n",
       "  \"/>\n",
       "<polyline clip-path=\"url(#clip8201)\" style=\"stroke:#000000; stroke-width:4; stroke-opacity:1; fill:none\" points=\"\n",
       "  184.243,1440.48 2321.26,1440.48 \n",
       "  \"/>\n",
       "<polyline clip-path=\"url(#clip8201)\" style=\"stroke:#000000; stroke-width:4; stroke-opacity:1; fill:none\" points=\"\n",
       "  184.243,1440.48 184.243,125.984 \n",
       "  \"/>\n",
       "<polyline clip-path=\"url(#clip8201)\" style=\"stroke:#000000; stroke-width:4; stroke-opacity:1; fill:none\" points=\"\n",
       "  244.724,1440.48 244.724,1420.77 \n",
       "  \"/>\n",
       "<polyline clip-path=\"url(#clip8201)\" style=\"stroke:#000000; stroke-width:4; stroke-opacity:1; fill:none\" points=\"\n",
       "  743.698,1440.48 743.698,1420.77 \n",
       "  \"/>\n",
       "<polyline clip-path=\"url(#clip8201)\" style=\"stroke:#000000; stroke-width:4; stroke-opacity:1; fill:none\" points=\"\n",
       "  1242.67,1440.48 1242.67,1420.77 \n",
       "  \"/>\n",
       "<polyline clip-path=\"url(#clip8201)\" style=\"stroke:#000000; stroke-width:4; stroke-opacity:1; fill:none\" points=\"\n",
       "  1741.64,1440.48 1741.64,1420.77 \n",
       "  \"/>\n",
       "<polyline clip-path=\"url(#clip8201)\" style=\"stroke:#000000; stroke-width:4; stroke-opacity:1; fill:none\" points=\"\n",
       "  2240.62,1440.48 2240.62,1420.77 \n",
       "  \"/>\n",
       "<polyline clip-path=\"url(#clip8201)\" style=\"stroke:#000000; stroke-width:4; stroke-opacity:1; fill:none\" points=\"\n",
       "  184.243,1428.53 216.298,1428.53 \n",
       "  \"/>\n",
       "<polyline clip-path=\"url(#clip8201)\" style=\"stroke:#000000; stroke-width:4; stroke-opacity:1; fill:none\" points=\"\n",
       "  184.243,1160.01 216.298,1160.01 \n",
       "  \"/>\n",
       "<polyline clip-path=\"url(#clip8201)\" style=\"stroke:#000000; stroke-width:4; stroke-opacity:1; fill:none\" points=\"\n",
       "  184.243,891.501 216.298,891.501 \n",
       "  \"/>\n",
       "<polyline clip-path=\"url(#clip8201)\" style=\"stroke:#000000; stroke-width:4; stroke-opacity:1; fill:none\" points=\"\n",
       "  184.243,622.987 216.298,622.987 \n",
       "  \"/>\n",
       "<polyline clip-path=\"url(#clip8201)\" style=\"stroke:#000000; stroke-width:4; stroke-opacity:1; fill:none\" points=\"\n",
       "  184.243,354.473 216.298,354.473 \n",
       "  \"/>\n",
       "<g clip-path=\"url(#clip8201)\">\n",
       "<text style=\"fill:#000000; fill-opacity:1; font-family:Arial,Helvetica Neue,Helvetica,sans-serif; font-size:48px; text-anchor:middle;\" transform=\"rotate(0, 244.724, 1494.48)\" x=\"244.724\" y=\"1494.48\">0.00</text>\n",
       "</g>\n",
       "<g clip-path=\"url(#clip8201)\">\n",
       "<text style=\"fill:#000000; fill-opacity:1; font-family:Arial,Helvetica Neue,Helvetica,sans-serif; font-size:48px; text-anchor:middle;\" transform=\"rotate(0, 743.698, 1494.48)\" x=\"743.698\" y=\"1494.48\">0.25</text>\n",
       "</g>\n",
       "<g clip-path=\"url(#clip8201)\">\n",
       "<text style=\"fill:#000000; fill-opacity:1; font-family:Arial,Helvetica Neue,Helvetica,sans-serif; font-size:48px; text-anchor:middle;\" transform=\"rotate(0, 1242.67, 1494.48)\" x=\"1242.67\" y=\"1494.48\">0.50</text>\n",
       "</g>\n",
       "<g clip-path=\"url(#clip8201)\">\n",
       "<text style=\"fill:#000000; fill-opacity:1; font-family:Arial,Helvetica Neue,Helvetica,sans-serif; font-size:48px; text-anchor:middle;\" transform=\"rotate(0, 1741.64, 1494.48)\" x=\"1741.64\" y=\"1494.48\">0.75</text>\n",
       "</g>\n",
       "<g clip-path=\"url(#clip8201)\">\n",
       "<text style=\"fill:#000000; fill-opacity:1; font-family:Arial,Helvetica Neue,Helvetica,sans-serif; font-size:48px; text-anchor:middle;\" transform=\"rotate(0, 2240.62, 1494.48)\" x=\"2240.62\" y=\"1494.48\">1.00</text>\n",
       "</g>\n",
       "<g clip-path=\"url(#clip8201)\">\n",
       "<text style=\"fill:#000000; fill-opacity:1; font-family:Arial,Helvetica Neue,Helvetica,sans-serif; font-size:48px; text-anchor:end;\" transform=\"rotate(0, 160.243, 1446.03)\" x=\"160.243\" y=\"1446.03\">0</text>\n",
       "</g>\n",
       "<g clip-path=\"url(#clip8201)\">\n",
       "<text style=\"fill:#000000; fill-opacity:1; font-family:Arial,Helvetica Neue,Helvetica,sans-serif; font-size:48px; text-anchor:end;\" transform=\"rotate(0, 160.243, 1177.51)\" x=\"160.243\" y=\"1177.51\">1</text>\n",
       "</g>\n",
       "<g clip-path=\"url(#clip8201)\">\n",
       "<text style=\"fill:#000000; fill-opacity:1; font-family:Arial,Helvetica Neue,Helvetica,sans-serif; font-size:48px; text-anchor:end;\" transform=\"rotate(0, 160.243, 909.001)\" x=\"160.243\" y=\"909.001\">2</text>\n",
       "</g>\n",
       "<g clip-path=\"url(#clip8201)\">\n",
       "<text style=\"fill:#000000; fill-opacity:1; font-family:Arial,Helvetica Neue,Helvetica,sans-serif; font-size:48px; text-anchor:end;\" transform=\"rotate(0, 160.243, 640.487)\" x=\"160.243\" y=\"640.487\">3</text>\n",
       "</g>\n",
       "<g clip-path=\"url(#clip8201)\">\n",
       "<text style=\"fill:#000000; fill-opacity:1; font-family:Arial,Helvetica Neue,Helvetica,sans-serif; font-size:48px; text-anchor:end;\" transform=\"rotate(0, 160.243, 371.973)\" x=\"160.243\" y=\"371.973\">4</text>\n",
       "</g>\n",
       "<g clip-path=\"url(#clip8201)\">\n",
       "<text style=\"fill:#000000; fill-opacity:1; font-family:Arial,Helvetica Neue,Helvetica,sans-serif; font-size:84px; text-anchor:middle;\" transform=\"rotate(0, 1252.75, 73.2)\" x=\"1252.75\" y=\"73.2\">Plot of Actual and Desired Joint Angles</text>\n",
       "</g>\n",
       "<g clip-path=\"url(#clip8201)\">\n",
       "<text style=\"fill:#000000; fill-opacity:1; font-family:Arial,Helvetica Neue,Helvetica,sans-serif; font-size:66px; text-anchor:middle;\" transform=\"rotate(0, 1252.75, 1590.4)\" x=\"1252.75\" y=\"1590.4\">Time</text>\n",
       "</g>\n",
       "<g clip-path=\"url(#clip8201)\">\n",
       "<text style=\"fill:#000000; fill-opacity:1; font-family:Arial,Helvetica Neue,Helvetica,sans-serif; font-size:66px; text-anchor:middle;\" transform=\"rotate(-90, 57.6, 783.233)\" x=\"57.6\" y=\"783.233\">Joint Angles</text>\n",
       "</g>\n",
       "<polyline clip-path=\"url(#clip8203)\" style=\"stroke:#009af9; stroke-width:8; stroke-opacity:1; fill:none\" stroke-dasharray=\"32, 20\" points=\"\n",
       "  244.724,1401.43 265.088,1401.23 285.453,1401.05 305.817,1400.87 326.181,1400.63 346.545,1400.31 366.909,1399.9 387.274,1399.36 407.638,1398.67 428.002,1397.82 \n",
       "  448.366,1396.79 468.73,1395.57 489.094,1394.15 509.459,1392.52 529.823,1390.67 550.187,1388.59 570.551,1386.27 590.915,1383.72 611.28,1380.92 631.644,1377.88 \n",
       "  652.008,1374.6 672.372,1371.06 692.736,1367.29 713.1,1363.27 733.465,1359.01 753.829,1354.52 774.193,1349.79 794.557,1344.85 814.921,1339.68 835.286,1334.31 \n",
       "  855.65,1328.74 876.014,1322.98 896.378,1317.03 916.742,1310.92 937.106,1304.66 957.471,1298.24 977.835,1291.69 998.199,1285.01 1018.56,1278.22 1038.93,1271.32 \n",
       "  1059.29,1264.32 1079.66,1257.23 1100.02,1250.05 1120.38,1242.8 1140.75,1235.48 1161.11,1228.1 1181.48,1220.67 1201.84,1213.19 1222.2,1205.69 1242.57,1198.16 \n",
       "  1262.93,1190.62 1283.3,1183.09 1303.66,1175.58 1324.03,1168.11 1344.39,1160.68 1364.75,1153.31 1385.12,1146.03 1405.48,1138.84 1425.85,1131.76 1446.21,1124.8 \n",
       "  1466.58,1117.98 1486.94,1111.32 1507.3,1104.81 1527.67,1098.48 1548.03,1092.34 1568.4,1086.39 1588.76,1080.65 1609.12,1075.11 1629.49,1069.79 1649.85,1064.7 \n",
       "  1670.22,1059.83 1690.58,1055.18 1710.95,1050.77 1731.31,1046.59 1751.67,1042.65 1772.04,1038.94 1792.4,1035.46 1812.77,1032.21 1833.13,1029.2 1853.49,1026.41 \n",
       "  1873.86,1023.84 1894.22,1021.5 1914.59,1019.38 1934.95,1017.47 1955.32,1015.77 1975.68,1014.27 1996.04,1012.97 2016.41,1011.85 2036.77,1010.91 2057.14,1010.15 \n",
       "  2077.5,1009.54 2097.86,1009.08 2118.23,1008.75 2138.59,1008.53 2158.96,1008.42 2179.32,1008.4 2199.69,1008.44 2220.05,1008.52 2240.41,1008.62 2260.78,1008.72 \n",
       "  \n",
       "  \"/>\n",
       "<polyline clip-path=\"url(#clip8203)\" style=\"stroke:#e26f46; stroke-width:8; stroke-opacity:1; fill:none\" stroke-dasharray=\"4, 8\" points=\"\n",
       "  244.724,1401.68 265.088,1401.67 285.453,1401.65 305.817,1401.57 326.181,1401.43 346.545,1401.21 366.909,1400.88 387.274,1400.42 407.638,1399.84 428.002,1399.1 \n",
       "  448.366,1398.2 468.73,1397.12 489.094,1395.86 509.459,1394.4 529.823,1392.74 550.187,1390.87 570.551,1388.79 590.915,1386.48 611.28,1383.94 631.644,1381.18 \n",
       "  652.008,1378.19 672.372,1374.96 692.736,1371.5 713.1,1367.81 733.465,1363.89 753.829,1359.74 774.193,1355.36 794.557,1350.76 814.921,1345.95 835.286,1340.92 \n",
       "  855.65,1335.68 876.014,1330.24 896.378,1324.61 916.742,1318.79 937.106,1312.79 957.471,1306.62 977.835,1300.29 998.199,1293.81 1018.56,1287.18 1038.93,1280.43 \n",
       "  1059.29,1273.54 1079.66,1266.55 1100.02,1259.46 1120.38,1252.27 1140.75,1245.01 1161.11,1237.69 1181.48,1230.3 1201.84,1222.88 1222.2,1215.43 1242.57,1207.95 \n",
       "  1262.93,1200.47 1283.3,1193 1303.66,1185.55 1324.03,1178.12 1344.39,1170.74 1364.75,1163.41 1385.12,1156.15 1405.48,1148.97 1425.85,1141.87 1446.21,1134.88 \n",
       "  1466.58,1128 1486.94,1121.24 1507.3,1114.61 1527.67,1108.13 1548.03,1101.8 1568.4,1095.63 1588.76,1089.63 1609.12,1083.82 1629.49,1078.18 1649.85,1072.75 \n",
       "  1670.22,1067.51 1690.58,1062.48 1710.95,1057.66 1731.31,1053.06 1751.67,1048.69 1772.04,1044.54 1792.4,1040.62 1812.77,1036.92 1833.13,1033.47 1853.49,1030.24 \n",
       "  1873.86,1027.25 1894.22,1024.48 1914.59,1021.95 1934.95,1019.64 1955.32,1017.55 1975.68,1015.68 1996.04,1014.02 2016.41,1012.56 2036.77,1011.3 2057.14,1010.23 \n",
       "  2077.5,1009.33 2097.86,1008.59 2118.23,1008 2138.59,1007.55 2158.96,1007.22 2179.32,1006.99 2199.69,1006.85 2220.05,1006.78 2240.41,1006.75 2260.78,1006.75 \n",
       "  \n",
       "  \"/>\n",
       "<polyline clip-path=\"url(#clip8203)\" style=\"stroke:#3da44d; stroke-width:8; stroke-opacity:1; fill:none\" stroke-dasharray=\"32, 20\" points=\"\n",
       "  244.724,1401.17 265.088,1400.72 285.453,1400.31 305.817,1399.88 326.181,1399.37 346.545,1398.72 366.909,1397.88 387.274,1396.81 407.638,1395.46 428.002,1393.79 \n",
       "  448.366,1391.78 468.73,1389.39 489.094,1386.59 509.459,1383.38 529.823,1379.71 550.187,1375.6 570.551,1371.01 590.915,1365.95 611.28,1360.41 631.644,1354.39 \n",
       "  652.008,1347.88 672.372,1340.91 692.736,1333.47 713.1,1325.57 733.465,1317.23 753.829,1308.47 774.193,1299.3 794.557,1289.74 814.921,1279.81 835.286,1269.54 \n",
       "  855.65,1258.93 876.014,1248.01 896.378,1236.8 916.742,1225.31 937.106,1213.56 957.471,1201.56 977.835,1189.33 998.199,1176.86 1018.56,1164.17 1038.93,1151.27 \n",
       "  1059.29,1138.16 1079.66,1124.85 1100.02,1111.35 1120.38,1097.65 1140.75,1083.78 1161.11,1069.73 1181.48,1055.51 1201.84,1041.15 1222.2,1026.64 1242.57,1012 \n",
       "  1262.93,997.243 1283.3,982.388 1303.66,967.451 1324.03,952.453 1344.39,937.417 1364.75,922.365 1385.12,907.327 1405.48,892.33 1425.85,877.407 1446.21,862.59 \n",
       "  1466.58,847.913 1486.94,833.412 1507.3,819.124 1527.67,805.084 1548.03,791.329 1568.4,777.895 1588.76,764.815 1609.12,752.124 1629.49,739.851 1649.85,728.026 \n",
       "  1670.22,716.675 1690.58,705.82 1710.95,695.481 1731.31,685.676 1751.67,676.418 1772.04,667.717 1792.4,659.581 1812.77,652.012 1833.13,645.011 1853.49,638.577 \n",
       "  1873.86,632.703 1894.22,627.381 1914.59,622.6 1934.95,618.346 1955.32,614.604 1975.68,611.354 1996.04,608.575 2016.41,606.244 2036.77,604.335 2057.14,602.82 \n",
       "  2077.5,601.668 2097.86,600.847 2118.23,600.321 2138.59,600.055 2158.96,600.008 2179.32,600.139 2199.69,600.404 2220.05,600.755 2240.41,601.144 2260.78,601.52 \n",
       "  \n",
       "  \"/>\n",
       "<polyline clip-path=\"url(#clip8203)\" style=\"stroke:#c271d2; stroke-width:8; stroke-opacity:1; fill:none\" stroke-dasharray=\"4, 8\" points=\"\n",
       "  244.724,1401.68 265.088,1401.67 285.453,1401.61 305.817,1401.46 326.181,1401.17 346.545,1400.7 366.909,1400.02 387.274,1399.09 407.638,1397.87 428.002,1396.35 \n",
       "  448.366,1394.48 468.73,1392.26 489.094,1389.65 509.459,1386.64 529.823,1383.2 550.187,1379.33 570.551,1375.02 590.915,1370.24 611.28,1365 631.644,1359.29 \n",
       "  652.008,1353.1 672.372,1346.42 692.736,1339.27 713.1,1331.64 733.465,1323.53 753.829,1314.95 774.193,1305.89 794.557,1296.39 814.921,1286.43 835.286,1276.02 \n",
       "  855.65,1265.19 876.014,1253.95 896.378,1242.3 916.742,1230.27 937.106,1217.86 957.471,1205.11 977.835,1192.02 998.199,1178.61 1018.56,1164.91 1038.93,1150.93 \n",
       "  1059.29,1136.7 1079.66,1122.24 1100.02,1107.57 1120.38,1092.71 1140.75,1077.7 1161.11,1062.55 1181.48,1047.28 1201.84,1031.93 1222.2,1016.51 1242.57,1001.06 \n",
       "  1262.93,985.589 1283.3,970.135 1303.66,954.718 1324.03,939.365 1344.39,924.099 1364.75,908.946 1385.12,893.93 1405.48,879.076 1425.85,864.406 1446.21,849.945 \n",
       "  1466.58,835.715 1486.94,821.737 1507.3,808.035 1527.67,794.628 1548.03,781.537 1568.4,768.78 1588.76,756.376 1609.12,744.342 1629.49,732.695 1649.85,721.45 \n",
       "  1670.22,710.62 1690.58,700.22 1710.95,690.259 1731.31,680.75 1751.67,671.7 1772.04,663.116 1792.4,655.006 1812.77,647.373 1833.13,640.22 1853.49,633.548 \n",
       "  1873.86,627.356 1894.22,621.642 1914.59,616.401 1934.95,611.626 1955.32,607.31 1975.68,603.442 1996.04,600.009 2016.41,596.996 2036.77,594.386 2057.14,592.161 \n",
       "  2077.5,590.297 2097.86,588.772 2118.23,587.557 2138.59,586.624 2158.96,585.942 2179.32,585.474 2199.69,585.185 2220.05,585.033 2240.41,584.976 2260.78,584.968 \n",
       "  \n",
       "  \"/>\n",
       "<polyline clip-path=\"url(#clip8203)\" style=\"stroke:#ac8d18; stroke-width:8; stroke-opacity:1; fill:none\" stroke-dasharray=\"32, 20\" points=\"\n",
       "  244.724,1401.25 265.088,1401.54 285.453,1402.19 305.817,1402.86 326.181,1403.28 346.545,1403.27 366.909,1402.72 387.274,1401.52 407.638,1399.63 428.002,1397 \n",
       "  448.366,1393.6 468.73,1389.42 489.094,1384.43 509.459,1378.63 529.823,1372.02 550.187,1364.6 570.551,1356.35 590.915,1347.28 611.28,1337.39 631.644,1326.67 \n",
       "  652.008,1315.12 672.372,1302.73 692.736,1289.49 713.1,1275.4 733.465,1260.44 753.829,1244.59 774.193,1227.86 794.557,1210.23 814.921,1191.68 835.286,1172.23 \n",
       "  855.65,1151.87 876.014,1130.63 896.378,1108.52 916.742,1085.58 937.106,1061.88 957.471,1037.46 977.835,1012.42 998.199,986.85 1018.56,960.846 1038.93,934.519 \n",
       "  1059.29,907.984 1079.66,881.354 1100.02,854.74 1120.38,828.245 1140.75,801.966 1161.11,775.987 1181.48,750.38 1201.84,725.206 1222.2,700.513 1242.57,676.338 \n",
       "  1262.93,652.712 1283.3,629.654 1303.66,607.181 1324.03,585.302 1344.39,564.026 1364.75,543.357 1385.12,523.3 1405.48,503.857 1425.85,485.029 1446.21,466.817 \n",
       "  1466.58,449.221 1486.94,432.24 1507.3,415.875 1527.67,400.123 1548.03,384.983 1568.4,370.454 1588.76,356.537 1609.12,343.23 1629.49,330.535 1649.85,318.453 \n",
       "  1670.22,306.986 1690.58,296.136 1710.95,285.905 1731.31,276.296 1751.67,267.31 1772.04,258.949 1792.4,251.214 1812.77,244.103 1833.13,237.614 1853.49,231.744 \n",
       "  1873.86,226.486 1894.22,221.833 1914.59,217.775 1934.95,214.299 1955.32,211.389 1975.68,209.027 1996.04,207.191 2016.41,205.856 2036.77,204.992 2057.14,204.568 \n",
       "  2077.5,204.546 2097.86,204.886 2118.23,205.54 2138.59,206.46 2158.96,207.589 2179.32,208.869 2199.69,210.235 2220.05,211.616 2240.41,212.938 2260.78,214.121 \n",
       "  \n",
       "  \"/>\n",
       "<polyline clip-path=\"url(#clip8203)\" style=\"stroke:#00a9ad; stroke-width:8; stroke-opacity:1; fill:none\" stroke-dasharray=\"4, 8\" points=\"\n",
       "  244.724,1401.68 265.088,1401.66 285.453,1401.58 305.817,1401.35 326.181,1400.91 346.545,1400.2 366.909,1399.16 387.274,1397.75 407.638,1395.91 428.002,1393.59 \n",
       "  448.366,1390.77 468.73,1387.39 489.094,1383.44 509.459,1378.87 529.823,1373.66 550.187,1367.8 570.551,1361.25 590.915,1354.01 611.28,1346.06 631.644,1337.4 \n",
       "  652.008,1328.01 672.372,1317.89 692.736,1307.04 713.1,1295.47 733.465,1283.17 753.829,1270.15 774.193,1256.43 794.557,1242.01 814.921,1226.9 835.286,1211.13 \n",
       "  855.65,1194.71 876.014,1177.66 896.378,1160 916.742,1141.75 937.106,1122.94 957.471,1103.59 977.835,1083.74 998.199,1063.41 1018.56,1042.63 1038.93,1021.43 \n",
       "  1059.29,999.855 1079.66,977.926 1100.02,955.68 1120.38,933.154 1140.75,910.384 1161.11,887.405 1181.48,864.256 1201.84,840.973 1222.2,817.595 1242.57,794.159 \n",
       "  1262.93,770.705 1283.3,747.269 1303.66,723.891 1324.03,700.608 1344.39,677.459 1364.75,654.481 1385.12,631.71 1405.48,609.184 1425.85,586.939 1446.21,565.009 \n",
       "  1466.58,543.43 1486.94,522.234 1507.3,501.455 1527.67,481.124 1548.03,461.272 1568.4,441.927 1588.76,423.117 1609.12,404.869 1629.49,387.207 1649.85,370.154 \n",
       "  1670.22,353.732 1690.58,337.96 1710.95,322.856 1731.31,308.435 1751.67,294.711 1772.04,281.695 1792.4,269.396 1812.77,257.821 1833.13,246.974 1853.49,236.856 \n",
       "  1873.86,227.467 1894.22,218.801 1914.59,210.854 1934.95,203.613 1955.32,197.068 1975.68,191.202 1996.04,185.996 2016.41,181.427 2036.77,177.47 2057.14,174.095 \n",
       "  2077.5,171.269 2097.86,168.956 2118.23,167.114 2138.59,165.699 2158.96,164.664 2179.32,163.955 2199.69,163.516 2220.05,163.286 2240.41,163.2 2260.78,163.187 \n",
       "  \n",
       "  \"/>\n",
       "<polygon clip-path=\"url(#clip8201)\" points=\"\n",
       "1680.22,632.864 2249.26,632.864 2249.26,209.504 1680.22,209.504 \n",
       "  \" fill=\"#ffffff\" fill-rule=\"evenodd\" fill-opacity=\"1\"/>\n",
       "<polyline clip-path=\"url(#clip8201)\" style=\"stroke:#000000; stroke-width:4; stroke-opacity:1; fill:none\" points=\"\n",
       "  1680.22,632.864 2249.26,632.864 2249.26,209.504 1680.22,209.504 1680.22,632.864 \n",
       "  \"/>\n",
       "<polyline clip-path=\"url(#clip8201)\" style=\"stroke:#009af9; stroke-width:8; stroke-opacity:1; fill:none\" stroke-dasharray=\"32, 20\" points=\"\n",
       "  1704.22,269.984 1848.22,269.984 \n",
       "  \"/>\n",
       "<g clip-path=\"url(#clip8201)\">\n",
       "<text style=\"fill:#000000; fill-opacity:1; font-family:Arial,Helvetica Neue,Helvetica,sans-serif; font-size:48px; text-anchor:start;\" transform=\"rotate(0, 1872.22, 287.484)\" x=\"1872.22\" y=\"287.484\">ActualTheta 1</text>\n",
       "</g>\n",
       "<polyline clip-path=\"url(#clip8201)\" style=\"stroke:#e26f46; stroke-width:8; stroke-opacity:1; fill:none\" stroke-dasharray=\"4, 8\" points=\"\n",
       "  1704.22,330.464 1848.22,330.464 \n",
       "  \"/>\n",
       "<g clip-path=\"url(#clip8201)\">\n",
       "<text style=\"fill:#000000; fill-opacity:1; font-family:Arial,Helvetica Neue,Helvetica,sans-serif; font-size:48px; text-anchor:start;\" transform=\"rotate(0, 1872.22, 347.964)\" x=\"1872.22\" y=\"347.964\">DesiredTheta 1</text>\n",
       "</g>\n",
       "<polyline clip-path=\"url(#clip8201)\" style=\"stroke:#3da44d; stroke-width:8; stroke-opacity:1; fill:none\" stroke-dasharray=\"32, 20\" points=\"\n",
       "  1704.22,390.944 1848.22,390.944 \n",
       "  \"/>\n",
       "<g clip-path=\"url(#clip8201)\">\n",
       "<text style=\"fill:#000000; fill-opacity:1; font-family:Arial,Helvetica Neue,Helvetica,sans-serif; font-size:48px; text-anchor:start;\" transform=\"rotate(0, 1872.22, 408.444)\" x=\"1872.22\" y=\"408.444\">ActualTheta 2</text>\n",
       "</g>\n",
       "<polyline clip-path=\"url(#clip8201)\" style=\"stroke:#c271d2; stroke-width:8; stroke-opacity:1; fill:none\" stroke-dasharray=\"4, 8\" points=\"\n",
       "  1704.22,451.424 1848.22,451.424 \n",
       "  \"/>\n",
       "<g clip-path=\"url(#clip8201)\">\n",
       "<text style=\"fill:#000000; fill-opacity:1; font-family:Arial,Helvetica Neue,Helvetica,sans-serif; font-size:48px; text-anchor:start;\" transform=\"rotate(0, 1872.22, 468.924)\" x=\"1872.22\" y=\"468.924\">DesiredTheta 2</text>\n",
       "</g>\n",
       "<polyline clip-path=\"url(#clip8201)\" style=\"stroke:#ac8d18; stroke-width:8; stroke-opacity:1; fill:none\" stroke-dasharray=\"32, 20\" points=\"\n",
       "  1704.22,511.904 1848.22,511.904 \n",
       "  \"/>\n",
       "<g clip-path=\"url(#clip8201)\">\n",
       "<text style=\"fill:#000000; fill-opacity:1; font-family:Arial,Helvetica Neue,Helvetica,sans-serif; font-size:48px; text-anchor:start;\" transform=\"rotate(0, 1872.22, 529.404)\" x=\"1872.22\" y=\"529.404\">ActualTheta 3</text>\n",
       "</g>\n",
       "<polyline clip-path=\"url(#clip8201)\" style=\"stroke:#00a9ad; stroke-width:8; stroke-opacity:1; fill:none\" stroke-dasharray=\"4, 8\" points=\"\n",
       "  1704.22,572.384 1848.22,572.384 \n",
       "  \"/>\n",
       "<g clip-path=\"url(#clip8201)\">\n",
       "<text style=\"fill:#000000; fill-opacity:1; font-family:Arial,Helvetica Neue,Helvetica,sans-serif; font-size:48px; text-anchor:start;\" transform=\"rotate(0, 1872.22, 589.884)\" x=\"1872.22\" y=\"589.884\">DesiredTheta 3</text>\n",
       "</g>\n",
       "</svg>\n"
      ]
     },
     "execution_count": 58,
     "metadata": {},
     "output_type": "execute_result"
    }
   ],
   "source": [
    "N, links = size(thetamat)\n",
    "\n",
    "Tf = N * dt\n",
    "\n",
    "timestamp = range(0, Tf, length=N)\n",
    "\n",
    "plot()\n",
    "\n",
    "for i = 1:links\n",
    "    plot!(timestamp, thetamat[:, i], lw=2, linestyle=:dash, label=\"ActualTheta $i\")\n",
    "    plot!(timestamp, thetamatd[:, i], lw=2, linestyle=:dot, label=\"DesiredTheta $i\")\n",
    "end\n",
    "\n",
    "xlabel!(\"Time\")\n",
    "ylabel!(\"Joint Angles\")\n",
    "title!(\"Plot of Actual and Desired Joint Angles\")"
   ]
  }
 ],
 "metadata": {
  "kernelspec": {
   "display_name": "Julia 1.1.0",
   "language": "julia",
   "name": "julia-1.1"
  },
  "language_info": {
   "file_extension": ".jl",
   "mimetype": "application/julia",
   "name": "julia",
   "version": "1.1.0"
  }
 },
 "nbformat": 4,
 "nbformat_minor": 2
}
